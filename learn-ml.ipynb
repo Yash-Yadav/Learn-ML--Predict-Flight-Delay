{
  "cells": [
    {
      "metadata": {
        "trusted": true,
        "scrolled": true
      },
      "cell_type": "code",
      "source": "# bit.do/learn-ml-cvs-11\n\n'''\ncURL is a computer software project providing a library and command-line tool for transferring data using various protocols. \nBash is a command line interpreter that typically runs in a text window where user can interpret commands to carry out various actions.\n\ncurl is a Bash command. You can execute Bash commands in a Jupyter notebook by prefixing them with an exclamation mark. \nThis command downloads a CSV file from Azure blob storage and saves it using the name flightdata.csv.\n'''\n\n!curl https://topcs.blob.core.windows.net/public/FlightData.csv -o flightdata.csv\n",
      "execution_count": 1,
      "outputs": [
        {
          "output_type": "stream",
          "text": "  % Total    % Received % Xferd  Average Speed   Time    Time     Time  Current\n                                 Dload  Upload   Total   Spent    Left  Speed\n100 1552k  100 1552k    0     0  1175k      0  0:00:52 --:--:--  0:00:52 3055000:01  0:00:01 --:--:-- 1177k\n",
          "name": "stdout"
        }
      ]
    },
    {
      "metadata": {
        "trusted": true
      },
      "cell_type": "markdown",
      "source": "\n\n# STEP 1: FETCH THE DATA"
    },
    {
      "metadata": {
        "trusted": true
      },
      "cell_type": "code",
      "source": "'''\npandas is an open source, BSD-licensed library providing high-performance, easy-to-use data \nstructures and data analysis tools for the Python programming language.\n\n\nA DataFrame is a two-dimensional labeled data structure. The columns in a DataFrame can be of different types, just like columns in a spreadsheet or database table.\nIt is the most commonly used object in Pandas. In this exercise, you will examine the DataFrame — and the data inside it — more closely.\n\nThe DataFrame that you created contains on-time arrival information for a major U.S. airline. It has more than \n11,000 rows and 26 columns. (The output says \"5 rows\" because DataFrame's head function only returns the first five rows.)\nEach row represents one flight and contains information such as the origin, the destination, the scheduled departure time, \nand whether the flight arrived on time or late. We'll look at the data more closely a bit later in this module.\n'''\n\nimport pandas as pd\ndf = pd.read_csv('flightdata.csv')\ndf.head()",
      "execution_count": 2,
      "outputs": [
        {
          "output_type": "execute_result",
          "execution_count": 2,
          "data": {
            "text/html": "<div>\n<style scoped>\n    .dataframe tbody tr th:only-of-type {\n        vertical-align: middle;\n    }\n\n    .dataframe tbody tr th {\n        vertical-align: top;\n    }\n\n    .dataframe thead th {\n        text-align: right;\n    }\n</style>\n<table border=\"1\" class=\"dataframe\">\n  <thead>\n    <tr style=\"text-align: right;\">\n      <th></th>\n      <th>YEAR</th>\n      <th>QUARTER</th>\n      <th>MONTH</th>\n      <th>DAY_OF_MONTH</th>\n      <th>DAY_OF_WEEK</th>\n      <th>UNIQUE_CARRIER</th>\n      <th>TAIL_NUM</th>\n      <th>FL_NUM</th>\n      <th>ORIGIN_AIRPORT_ID</th>\n      <th>ORIGIN</th>\n      <th>...</th>\n      <th>CRS_ARR_TIME</th>\n      <th>ARR_TIME</th>\n      <th>ARR_DELAY</th>\n      <th>ARR_DEL15</th>\n      <th>CANCELLED</th>\n      <th>DIVERTED</th>\n      <th>CRS_ELAPSED_TIME</th>\n      <th>ACTUAL_ELAPSED_TIME</th>\n      <th>DISTANCE</th>\n      <th>Unnamed: 25</th>\n    </tr>\n  </thead>\n  <tbody>\n    <tr>\n      <th>0</th>\n      <td>2016</td>\n      <td>1</td>\n      <td>1</td>\n      <td>1</td>\n      <td>5</td>\n      <td>DL</td>\n      <td>N836DN</td>\n      <td>1399</td>\n      <td>10397</td>\n      <td>ATL</td>\n      <td>...</td>\n      <td>2143</td>\n      <td>2102.0</td>\n      <td>-41.0</td>\n      <td>0.0</td>\n      <td>0.0</td>\n      <td>0.0</td>\n      <td>338.0</td>\n      <td>295.0</td>\n      <td>2182.0</td>\n      <td>NaN</td>\n    </tr>\n    <tr>\n      <th>1</th>\n      <td>2016</td>\n      <td>1</td>\n      <td>1</td>\n      <td>1</td>\n      <td>5</td>\n      <td>DL</td>\n      <td>N964DN</td>\n      <td>1476</td>\n      <td>11433</td>\n      <td>DTW</td>\n      <td>...</td>\n      <td>1435</td>\n      <td>1439.0</td>\n      <td>4.0</td>\n      <td>0.0</td>\n      <td>0.0</td>\n      <td>0.0</td>\n      <td>110.0</td>\n      <td>115.0</td>\n      <td>528.0</td>\n      <td>NaN</td>\n    </tr>\n    <tr>\n      <th>2</th>\n      <td>2016</td>\n      <td>1</td>\n      <td>1</td>\n      <td>1</td>\n      <td>5</td>\n      <td>DL</td>\n      <td>N813DN</td>\n      <td>1597</td>\n      <td>10397</td>\n      <td>ATL</td>\n      <td>...</td>\n      <td>1215</td>\n      <td>1142.0</td>\n      <td>-33.0</td>\n      <td>0.0</td>\n      <td>0.0</td>\n      <td>0.0</td>\n      <td>335.0</td>\n      <td>300.0</td>\n      <td>2182.0</td>\n      <td>NaN</td>\n    </tr>\n    <tr>\n      <th>3</th>\n      <td>2016</td>\n      <td>1</td>\n      <td>1</td>\n      <td>1</td>\n      <td>5</td>\n      <td>DL</td>\n      <td>N587NW</td>\n      <td>1768</td>\n      <td>14747</td>\n      <td>SEA</td>\n      <td>...</td>\n      <td>1335</td>\n      <td>1345.0</td>\n      <td>10.0</td>\n      <td>0.0</td>\n      <td>0.0</td>\n      <td>0.0</td>\n      <td>196.0</td>\n      <td>205.0</td>\n      <td>1399.0</td>\n      <td>NaN</td>\n    </tr>\n    <tr>\n      <th>4</th>\n      <td>2016</td>\n      <td>1</td>\n      <td>1</td>\n      <td>1</td>\n      <td>5</td>\n      <td>DL</td>\n      <td>N836DN</td>\n      <td>1823</td>\n      <td>14747</td>\n      <td>SEA</td>\n      <td>...</td>\n      <td>607</td>\n      <td>615.0</td>\n      <td>8.0</td>\n      <td>0.0</td>\n      <td>0.0</td>\n      <td>0.0</td>\n      <td>247.0</td>\n      <td>259.0</td>\n      <td>1927.0</td>\n      <td>NaN</td>\n    </tr>\n  </tbody>\n</table>\n<p>5 rows × 26 columns</p>\n</div>",
            "text/plain": "   YEAR  QUARTER  MONTH  DAY_OF_MONTH  DAY_OF_WEEK UNIQUE_CARRIER TAIL_NUM  \\\n0  2016        1      1             1            5             DL   N836DN   \n1  2016        1      1             1            5             DL   N964DN   \n2  2016        1      1             1            5             DL   N813DN   \n3  2016        1      1             1            5             DL   N587NW   \n4  2016        1      1             1            5             DL   N836DN   \n\n   FL_NUM  ORIGIN_AIRPORT_ID ORIGIN     ...       CRS_ARR_TIME ARR_TIME  \\\n0    1399              10397    ATL     ...               2143   2102.0   \n1    1476              11433    DTW     ...               1435   1439.0   \n2    1597              10397    ATL     ...               1215   1142.0   \n3    1768              14747    SEA     ...               1335   1345.0   \n4    1823              14747    SEA     ...                607    615.0   \n\n   ARR_DELAY  ARR_DEL15  CANCELLED  DIVERTED  CRS_ELAPSED_TIME  \\\n0      -41.0        0.0        0.0       0.0             338.0   \n1        4.0        0.0        0.0       0.0             110.0   \n2      -33.0        0.0        0.0       0.0             335.0   \n3       10.0        0.0        0.0       0.0             196.0   \n4        8.0        0.0        0.0       0.0             247.0   \n\n   ACTUAL_ELAPSED_TIME  DISTANCE  Unnamed: 25  \n0                295.0    2182.0          NaN  \n1                115.0     528.0          NaN  \n2                300.0    2182.0          NaN  \n3                205.0    1399.0          NaN  \n4                259.0    1927.0          NaN  \n\n[5 rows x 26 columns]"
          },
          "metadata": {}
        }
      ]
    },
    {
      "metadata": {
        "trusted": true
      },
      "cell_type": "code",
      "source": "df.shape",
      "execution_count": 3,
      "outputs": [
        {
          "output_type": "execute_result",
          "execution_count": 3,
          "data": {
            "text/plain": "(11231, 26)"
          },
          "metadata": {}
        }
      ]
    },
    {
      "metadata": {
        "trusted": true
      },
      "cell_type": "code",
      "source": "'''\nTo know if shape is not a function , what is it ?\n'''\nhelp(pd.DataFrame.shape)",
      "execution_count": 4,
      "outputs": [
        {
          "output_type": "stream",
          "text": "Help on property:\n\n    Return a tuple representing the dimensionality of the DataFrame.\n    \n    See Also\n    --------\n    ndarray.shape\n    \n    Examples\n    --------\n    >>> df = pd.DataFrame({'col1': [1, 2], 'col2': [3, 4]})\n    >>> df.shape\n    (2, 2)\n    \n    >>> df = pd.DataFrame({'col1': [1, 2], 'col2': [3, 4],\n    ...                    'col3': [5, 6]})\n    >>> df.shape\n    (2, 3)\n\n",
          "name": "stdout"
        }
      ]
    },
    {
      "metadata": {
        "trusted": true
      },
      "cell_type": "code",
      "source": "'''\nTo see what the head function does?\n'''\nhelp(pd.DataFrame.head)",
      "execution_count": 5,
      "outputs": [
        {
          "output_type": "stream",
          "text": "Help on function head in module pandas.core.generic:\n\nhead(self, n=5)\n    Return the first `n` rows.\n    \n    This function returns the first `n` rows for the object based\n    on position. It is useful for quickly testing if your object\n    has the right type of data in it.\n    \n    Parameters\n    ----------\n    n : int, default 5\n        Number of rows to select.\n    \n    Returns\n    -------\n    obj_head : type of caller\n        The first `n` rows of the caller object.\n    \n    See Also\n    --------\n    pandas.DataFrame.tail: Returns the last `n` rows.\n    \n    Examples\n    --------\n    >>> df = pd.DataFrame({'animal':['alligator', 'bee', 'falcon', 'lion',\n    ...                    'monkey', 'parrot', 'shark', 'whale', 'zebra']})\n    >>> df\n          animal\n    0  alligator\n    1        bee\n    2     falcon\n    3       lion\n    4     monkey\n    5     parrot\n    6      shark\n    7      whale\n    8      zebra\n    \n    Viewing the first 5 lines\n    \n    >>> df.head()\n          animal\n    0  alligator\n    1        bee\n    2     falcon\n    3       lion\n    4     monkey\n    \n    Viewing the first `n` lines (three in this case)\n    \n    >>> df.head(3)\n          animal\n    0  alligator\n    1        bee\n    2     falcon\n\n",
          "name": "stdout"
        }
      ]
    },
    {
      "metadata": {},
      "cell_type": "markdown",
      "source": "# LET US STUDY EACH COLUMN IN DETAIL USING THE PRESENTATION\n"
    },
    {
      "metadata": {},
      "cell_type": "markdown",
      "source": "# STEP 2: CLEAN AND PREPARE DATA \n"
    },
    {
      "metadata": {
        "trusted": true
      },
      "cell_type": "code",
      "source": "'''\n\nTo eliminate missing values, either by deleting the\nrows or columns containing them or replacing them with\nmeaningful values. \n\nEliminate extraneous columns\n\nSelecting the \"feature\" columns that are relevant to the\noutcome you are trying to predict while filtering out\ncolumns that do not affect the outcome, could bias \n\nBinning or quantization of the data\n\nConvert columns containing categorical data to discrete\ncolumns containing indicator values\n\nConfirm that the output is \"True,\" which indicates that\nthere is at least one missing value somewhere in the\ndataset.\n\n\n'''\n\ndf.isnull().values.any()\n#checking if there is any null values",
      "execution_count": 6,
      "outputs": [
        {
          "output_type": "execute_result",
          "execution_count": 6,
          "data": {
            "text/plain": "True"
          },
          "metadata": {}
        }
      ]
    },
    {
      "metadata": {
        "trusted": true
      },
      "cell_type": "code",
      "source": "\n#df.isnull()  # gives a whole table which gives true or false for which each column of the dataframe\ndf.isnull().values #a 2D list of true or false\ndf.isnull().values.any() #check if any null values are present\n\n",
      "execution_count": 7,
      "outputs": [
        {
          "output_type": "execute_result",
          "execution_count": 7,
          "data": {
            "text/plain": "True"
          },
          "metadata": {}
        }
      ]
    },
    {
      "metadata": {
        "trusted": true
      },
      "cell_type": "code",
      "source": "df.isnull().values.any()",
      "execution_count": 8,
      "outputs": [
        {
          "output_type": "execute_result",
          "execution_count": 8,
          "data": {
            "text/plain": "True"
          },
          "metadata": {}
        }
      ]
    },
    {
      "metadata": {
        "trusted": true
      },
      "cell_type": "code",
      "source": "# The next step is to find out where the\n# missing values are.\ndf.isnull().sum()",
      "execution_count": 9,
      "outputs": [
        {
          "output_type": "execute_result",
          "execution_count": 9,
          "data": {
            "text/plain": "YEAR                       0\nQUARTER                    0\nMONTH                      0\nDAY_OF_MONTH               0\nDAY_OF_WEEK                0\nUNIQUE_CARRIER             0\nTAIL_NUM                   0\nFL_NUM                     0\nORIGIN_AIRPORT_ID          0\nORIGIN                     0\nDEST_AIRPORT_ID            0\nDEST                       0\nCRS_DEP_TIME               0\nDEP_TIME                 107\nDEP_DELAY                107\nDEP_DEL15                107\nCRS_ARR_TIME               0\nARR_TIME                 115\nARR_DELAY                188\nARR_DEL15                188\nCANCELLED                  0\nDIVERTED                   0\nCRS_ELAPSED_TIME           0\nACTUAL_ELAPSED_TIME      188\nDISTANCE                   0\nUnnamed: 25            11231\ndtype: int64"
          },
          "metadata": {}
        }
      ]
    },
    {
      "metadata": {
        "trusted": true
      },
      "cell_type": "code",
      "source": "'''\nCuriously, the 26th column (\"Unnamed: 25\") contains 11,231 missing values, which equals the number of rows in the dataset. \nThis column was mistakenly created because the CSV file that you imported\ncontains a comma at the end of each line. To eliminate that column, add the following code to the notebook and execute it:'''\n#axis : {0 or ‘index’, 1 or ‘columns’}, default 0\n#Whether to drop labels from the index (0 or ‘index’) or columns (1 or ‘columns’).\n\ndf = df.drop('Unnamed: 25', axis=1)\ndf.isnull().sum()",
      "execution_count": 10,
      "outputs": [
        {
          "output_type": "execute_result",
          "execution_count": 10,
          "data": {
            "text/plain": "YEAR                     0\nQUARTER                  0\nMONTH                    0\nDAY_OF_MONTH             0\nDAY_OF_WEEK              0\nUNIQUE_CARRIER           0\nTAIL_NUM                 0\nFL_NUM                   0\nORIGIN_AIRPORT_ID        0\nORIGIN                   0\nDEST_AIRPORT_ID          0\nDEST                     0\nCRS_DEP_TIME             0\nDEP_TIME               107\nDEP_DELAY              107\nDEP_DEL15              107\nCRS_ARR_TIME             0\nARR_TIME               115\nARR_DELAY              188\nARR_DEL15              188\nCANCELLED                0\nDIVERTED                 0\nCRS_ELAPSED_TIME         0\nACTUAL_ELAPSED_TIME    188\nDISTANCE                 0\ndtype: int64"
          },
          "metadata": {}
        }
      ]
    },
    {
      "metadata": {
        "trusted": true
      },
      "cell_type": "code",
      "source": "help(pd.DataFrame.drop)",
      "execution_count": 11,
      "outputs": [
        {
          "output_type": "stream",
          "text": "Help on function drop in module pandas.core.frame:\n\ndrop(self, labels=None, axis=0, index=None, columns=None, level=None, inplace=False, errors='raise')\n    Drop specified labels from rows or columns.\n    \n    Remove rows or columns by specifying label names and corresponding\n    axis, or by specifying directly index or column names. When using a\n    multi-index, labels on different levels can be removed by specifying\n    the level.\n    \n    Parameters\n    ----------\n    labels : single label or list-like\n        Index or column labels to drop.\n    axis : {0 or 'index', 1 or 'columns'}, default 0\n        Whether to drop labels from the index (0 or 'index') or\n        columns (1 or 'columns').\n    index, columns : single label or list-like\n        Alternative to specifying axis (``labels, axis=1``\n        is equivalent to ``columns=labels``).\n    \n        .. versionadded:: 0.21.0\n    level : int or level name, optional\n        For MultiIndex, level from which the labels will be removed.\n    inplace : bool, default False\n        If True, do operation inplace and return None.\n    errors : {'ignore', 'raise'}, default 'raise'\n        If 'ignore', suppress error and only existing labels are\n        dropped.\n    \n    Returns\n    -------\n    dropped : pandas.DataFrame\n    \n    See Also\n    --------\n    DataFrame.loc : Label-location based indexer for selection by label.\n    DataFrame.dropna : Return DataFrame with labels on given axis omitted\n        where (all or any) data are missing\n    DataFrame.drop_duplicates : Return DataFrame with duplicate rows\n        removed, optionally only considering certain columns\n    Series.drop : Return Series with specified index labels removed.\n    \n    Raises\n    ------\n    KeyError\n        If none of the labels are found in the selected axis\n    \n    Examples\n    --------\n    >>> df = pd.DataFrame(np.arange(12).reshape(3,4),\n    ...                   columns=['A', 'B', 'C', 'D'])\n    >>> df\n       A  B   C   D\n    0  0  1   2   3\n    1  4  5   6   7\n    2  8  9  10  11\n    \n    Drop columns\n    \n    >>> df.drop(['B', 'C'], axis=1)\n       A   D\n    0  0   3\n    1  4   7\n    2  8  11\n    \n    >>> df.drop(columns=['B', 'C'])\n       A   D\n    0  0   3\n    1  4   7\n    2  8  11\n    \n    Drop a row by index\n    \n    >>> df.drop([0, 1])\n       A  B   C   D\n    2  8  9  10  11\n    \n    Drop columns and/or rows of MultiIndex DataFrame\n    \n    >>> midx = pd.MultiIndex(levels=[['lama', 'cow', 'falcon'],\n    ...                              ['speed', 'weight', 'length']],\n    ...                      labels=[[0, 0, 0, 1, 1, 1, 2, 2, 2],\n    ...                              [0, 1, 2, 0, 1, 2, 0, 1, 2]])\n    >>> df = pd.DataFrame(index=midx, columns=['big', 'small'],\n    ...                   data=[[45, 30], [200, 100], [1.5, 1], [30, 20],\n    ...                         [250, 150], [1.5, 0.8], [320, 250],\n    ...                         [1, 0.8], [0.3,0.2]])\n    >>> df\n                    big     small\n    lama    speed   45.0    30.0\n            weight  200.0   100.0\n            length  1.5     1.0\n    cow     speed   30.0    20.0\n            weight  250.0   150.0\n            length  1.5     0.8\n    falcon  speed   320.0   250.0\n            weight  1.0     0.8\n            length  0.3     0.2\n    \n    >>> df.drop(index='cow', columns='small')\n                    big\n    lama    speed   45.0\n            weight  200.0\n            length  1.5\n    falcon  speed   320.0\n            weight  1.0\n            length  0.3\n    \n    >>> df.drop(index='length', level=1)\n                    big     small\n    lama    speed   45.0    30.0\n            weight  200.0   100.0\n    cow     speed   30.0    20.0\n            weight  250.0   150.0\n    falcon  speed   320.0   250.0\n            weight  1.0     0.8\n\n",
          "name": "stdout"
        }
      ]
    },
    {
      "metadata": {
        "trusted": true
      },
      "cell_type": "code",
      "source": "'''\nThe DataFrame still contains a lot of missing values, but some of them aren't useful because the columns\ncontaining them are not relevant to the model that you are building. The goal of that model is to predict whether\na flight you are considering booking is likely to arrive on time. If you know that the flight is likely to be late,\nyou might choose to book another flight.\n\nThe next step, therefore, is to filter the dataset to eliminate columns that aren't relevant to a predictive model. \nFor example, the aircraft's tail number probably has little bearing on whether a flight will arrive on time, and at the \ntime you book a ticket, you have no way of knowing whether a flight will be cancelled, diverted, or delayed. \nBy contrast, the scheduled departure time could have a lot to do with on-time arrivals. \n\n'''\n\ndf = df[[\"MONTH\", \"DAY_OF_MONTH\",\n         \"DAY_OF_WEEK\", \"ORIGIN\", \"DEST\",\n         \"CRS_DEP_TIME\", \"ARR_DEL15\"]]\ndf.isnull().sum()",
      "execution_count": 12,
      "outputs": [
        {
          "output_type": "execute_result",
          "execution_count": 12,
          "data": {
            "text/plain": "MONTH             0\nDAY_OF_MONTH      0\nDAY_OF_WEEK       0\nORIGIN            0\nDEST              0\nCRS_DEP_TIME      0\nARR_DEL15       188\ndtype: int64"
          },
          "metadata": {}
        }
      ]
    },
    {
      "metadata": {
        "trusted": true
      },
      "cell_type": "code",
      "source": "'''\nThe only column that now contains missing values is the ARR_DEL15 column, \nwhich uses 0s to identify flights that arrived on time and 1s for flights that didn't. \nThe reason these rows are missing ARR_DEL15 values is that they all correspond to flights that were canceled or diverted. \n'''\n\ndf[df.isnull().values.any(axis=1)].head()",
      "execution_count": 13,
      "outputs": [
        {
          "output_type": "execute_result",
          "execution_count": 13,
          "data": {
            "text/html": "<div>\n<style scoped>\n    .dataframe tbody tr th:only-of-type {\n        vertical-align: middle;\n    }\n\n    .dataframe tbody tr th {\n        vertical-align: top;\n    }\n\n    .dataframe thead th {\n        text-align: right;\n    }\n</style>\n<table border=\"1\" class=\"dataframe\">\n  <thead>\n    <tr style=\"text-align: right;\">\n      <th></th>\n      <th>MONTH</th>\n      <th>DAY_OF_MONTH</th>\n      <th>DAY_OF_WEEK</th>\n      <th>ORIGIN</th>\n      <th>DEST</th>\n      <th>CRS_DEP_TIME</th>\n      <th>ARR_DEL15</th>\n    </tr>\n  </thead>\n  <tbody>\n    <tr>\n      <th>177</th>\n      <td>1</td>\n      <td>9</td>\n      <td>6</td>\n      <td>MSP</td>\n      <td>SEA</td>\n      <td>701</td>\n      <td>NaN</td>\n    </tr>\n    <tr>\n      <th>179</th>\n      <td>1</td>\n      <td>10</td>\n      <td>7</td>\n      <td>MSP</td>\n      <td>DTW</td>\n      <td>1348</td>\n      <td>NaN</td>\n    </tr>\n    <tr>\n      <th>184</th>\n      <td>1</td>\n      <td>10</td>\n      <td>7</td>\n      <td>MSP</td>\n      <td>DTW</td>\n      <td>625</td>\n      <td>NaN</td>\n    </tr>\n    <tr>\n      <th>210</th>\n      <td>1</td>\n      <td>10</td>\n      <td>7</td>\n      <td>DTW</td>\n      <td>MSP</td>\n      <td>1200</td>\n      <td>NaN</td>\n    </tr>\n    <tr>\n      <th>478</th>\n      <td>1</td>\n      <td>22</td>\n      <td>5</td>\n      <td>SEA</td>\n      <td>JFK</td>\n      <td>2305</td>\n      <td>NaN</td>\n    </tr>\n  </tbody>\n</table>\n</div>",
            "text/plain": "     MONTH  DAY_OF_MONTH  DAY_OF_WEEK ORIGIN DEST  CRS_DEP_TIME  ARR_DEL15\n177      1             9            6    MSP  SEA           701        NaN\n179      1            10            7    MSP  DTW          1348        NaN\n184      1            10            7    MSP  DTW           625        NaN\n210      1            10            7    DTW  MSP          1200        NaN\n478      1            22            5    SEA  JFK          2305        NaN"
          },
          "metadata": {}
        }
      ]
    },
    {
      "metadata": {
        "trusted": true
      },
      "cell_type": "code",
      "source": "'''\n\nYou could call dropna on the DataFrame to remove these rows. But since a flight that is canceled \nor diverted to another airport could be considered \"late,\" let's use the fillna method to replace the missing values with 1s.\n\nUse the following code to replace missing values in the ARR_DEL15 column with 1s and display rows 177 through 184:\n'''\n\ndf = df.fillna({'ARR_DEL15': 1})\ndf.iloc[177:185]",
      "execution_count": 14,
      "outputs": [
        {
          "output_type": "execute_result",
          "execution_count": 14,
          "data": {
            "text/html": "<div>\n<style scoped>\n    .dataframe tbody tr th:only-of-type {\n        vertical-align: middle;\n    }\n\n    .dataframe tbody tr th {\n        vertical-align: top;\n    }\n\n    .dataframe thead th {\n        text-align: right;\n    }\n</style>\n<table border=\"1\" class=\"dataframe\">\n  <thead>\n    <tr style=\"text-align: right;\">\n      <th></th>\n      <th>MONTH</th>\n      <th>DAY_OF_MONTH</th>\n      <th>DAY_OF_WEEK</th>\n      <th>ORIGIN</th>\n      <th>DEST</th>\n      <th>CRS_DEP_TIME</th>\n      <th>ARR_DEL15</th>\n    </tr>\n  </thead>\n  <tbody>\n    <tr>\n      <th>177</th>\n      <td>1</td>\n      <td>9</td>\n      <td>6</td>\n      <td>MSP</td>\n      <td>SEA</td>\n      <td>701</td>\n      <td>1.0</td>\n    </tr>\n    <tr>\n      <th>178</th>\n      <td>1</td>\n      <td>9</td>\n      <td>6</td>\n      <td>DTW</td>\n      <td>JFK</td>\n      <td>1527</td>\n      <td>0.0</td>\n    </tr>\n    <tr>\n      <th>179</th>\n      <td>1</td>\n      <td>10</td>\n      <td>7</td>\n      <td>MSP</td>\n      <td>DTW</td>\n      <td>1348</td>\n      <td>1.0</td>\n    </tr>\n    <tr>\n      <th>180</th>\n      <td>1</td>\n      <td>10</td>\n      <td>7</td>\n      <td>DTW</td>\n      <td>MSP</td>\n      <td>1540</td>\n      <td>0.0</td>\n    </tr>\n    <tr>\n      <th>181</th>\n      <td>1</td>\n      <td>10</td>\n      <td>7</td>\n      <td>JFK</td>\n      <td>ATL</td>\n      <td>1325</td>\n      <td>0.0</td>\n    </tr>\n    <tr>\n      <th>182</th>\n      <td>1</td>\n      <td>10</td>\n      <td>7</td>\n      <td>JFK</td>\n      <td>ATL</td>\n      <td>610</td>\n      <td>0.0</td>\n    </tr>\n    <tr>\n      <th>183</th>\n      <td>1</td>\n      <td>10</td>\n      <td>7</td>\n      <td>JFK</td>\n      <td>SEA</td>\n      <td>1615</td>\n      <td>0.0</td>\n    </tr>\n    <tr>\n      <th>184</th>\n      <td>1</td>\n      <td>10</td>\n      <td>7</td>\n      <td>MSP</td>\n      <td>DTW</td>\n      <td>625</td>\n      <td>1.0</td>\n    </tr>\n  </tbody>\n</table>\n</div>",
            "text/plain": "     MONTH  DAY_OF_MONTH  DAY_OF_WEEK ORIGIN DEST  CRS_DEP_TIME  ARR_DEL15\n177      1             9            6    MSP  SEA           701        1.0\n178      1             9            6    DTW  JFK          1527        0.0\n179      1            10            7    MSP  DTW          1348        1.0\n180      1            10            7    DTW  MSP          1540        0.0\n181      1            10            7    JFK  ATL          1325        0.0\n182      1            10            7    JFK  ATL           610        0.0\n183      1            10            7    JFK  SEA          1615        0.0\n184      1            10            7    MSP  DTW           625        1.0"
          },
          "metadata": {}
        }
      ]
    },
    {
      "metadata": {
        "trusted": true
      },
      "cell_type": "code",
      "source": "'''\nIntuitively, it makes sense, because it probably doesn't\nmatter much whether a flight leaves at 10:30 a.m. or 10:40\na.m.\nIt matters a great deal whether it leaves at 10:30 a.m. or 5:30 p.m.\n\nBinning/Quantization : \n\nEqual width (or distance) binning : The simplest binning approach is to partition the range of the variable into k equal-width intervals. \nThe interval width is simply the range [A, B] of the variable divided by k,\nw = (B-A) / k\nA=0000 , B=2359 so after dividing by 100 all values will be between 00 and 23.\n'''\n\n#:iterrows(): Iterate over the rows of a DataFrame as (index, Series) pairs. This converts the rows to\n#Series objects, which can change the dtypes and has some performance implications.\n\nimport math\nfor index, row in df.iterrows():\n    df.loc[index, 'CRS_DEP_TIME'] = math.floor(row['CRS_DEP_TIME'] / 100)\n    #index means row index, row contains all columns with values\ndf.head()",
      "execution_count": 15,
      "outputs": [
        {
          "output_type": "execute_result",
          "execution_count": 15,
          "data": {
            "text/html": "<div>\n<style scoped>\n    .dataframe tbody tr th:only-of-type {\n        vertical-align: middle;\n    }\n\n    .dataframe tbody tr th {\n        vertical-align: top;\n    }\n\n    .dataframe thead th {\n        text-align: right;\n    }\n</style>\n<table border=\"1\" class=\"dataframe\">\n  <thead>\n    <tr style=\"text-align: right;\">\n      <th></th>\n      <th>MONTH</th>\n      <th>DAY_OF_MONTH</th>\n      <th>DAY_OF_WEEK</th>\n      <th>ORIGIN</th>\n      <th>DEST</th>\n      <th>CRS_DEP_TIME</th>\n      <th>ARR_DEL15</th>\n    </tr>\n  </thead>\n  <tbody>\n    <tr>\n      <th>0</th>\n      <td>1</td>\n      <td>1</td>\n      <td>5</td>\n      <td>ATL</td>\n      <td>SEA</td>\n      <td>19</td>\n      <td>0.0</td>\n    </tr>\n    <tr>\n      <th>1</th>\n      <td>1</td>\n      <td>1</td>\n      <td>5</td>\n      <td>DTW</td>\n      <td>MSP</td>\n      <td>13</td>\n      <td>0.0</td>\n    </tr>\n    <tr>\n      <th>2</th>\n      <td>1</td>\n      <td>1</td>\n      <td>5</td>\n      <td>ATL</td>\n      <td>SEA</td>\n      <td>9</td>\n      <td>0.0</td>\n    </tr>\n    <tr>\n      <th>3</th>\n      <td>1</td>\n      <td>1</td>\n      <td>5</td>\n      <td>SEA</td>\n      <td>MSP</td>\n      <td>8</td>\n      <td>0.0</td>\n    </tr>\n    <tr>\n      <th>4</th>\n      <td>1</td>\n      <td>1</td>\n      <td>5</td>\n      <td>SEA</td>\n      <td>DTW</td>\n      <td>23</td>\n      <td>0.0</td>\n    </tr>\n  </tbody>\n</table>\n</div>",
            "text/plain": "   MONTH  DAY_OF_MONTH  DAY_OF_WEEK ORIGIN DEST  CRS_DEP_TIME  ARR_DEL15\n0      1             1            5    ATL  SEA            19        0.0\n1      1             1            5    DTW  MSP            13        0.0\n2      1             1            5    ATL  SEA             9        0.0\n3      1             1            5    SEA  MSP             8        0.0\n4      1             1            5    SEA  DTW            23        0.0"
          },
          "metadata": {}
        }
      ]
    },
    {
      "metadata": {
        "trusted": true
      },
      "cell_type": "code",
      "source": "'''\nTo convert a categorical variable into a “dummy” or “indicator” DataFrame, for example a column in a\nDataFrame (a Series) which has k distinct values, can derive a DataFrame containing k columns of 1s and\n0s using get_dummies():\n\n'''\n\ndd= pd.DataFrame({'city': ('delhi','chennai','bengaluru','delhi','delhi','bengaluru'), 'guest_no': range(6)})",
      "execution_count": 16,
      "outputs": []
    },
    {
      "metadata": {
        "trusted": true
      },
      "cell_type": "code",
      "source": "dd",
      "execution_count": 17,
      "outputs": [
        {
          "output_type": "execute_result",
          "execution_count": 17,
          "data": {
            "text/html": "<div>\n<style scoped>\n    .dataframe tbody tr th:only-of-type {\n        vertical-align: middle;\n    }\n\n    .dataframe tbody tr th {\n        vertical-align: top;\n    }\n\n    .dataframe thead th {\n        text-align: right;\n    }\n</style>\n<table border=\"1\" class=\"dataframe\">\n  <thead>\n    <tr style=\"text-align: right;\">\n      <th></th>\n      <th>city</th>\n      <th>guest_no</th>\n    </tr>\n  </thead>\n  <tbody>\n    <tr>\n      <th>0</th>\n      <td>delhi</td>\n      <td>0</td>\n    </tr>\n    <tr>\n      <th>1</th>\n      <td>chennai</td>\n      <td>1</td>\n    </tr>\n    <tr>\n      <th>2</th>\n      <td>bengaluru</td>\n      <td>2</td>\n    </tr>\n    <tr>\n      <th>3</th>\n      <td>delhi</td>\n      <td>3</td>\n    </tr>\n    <tr>\n      <th>4</th>\n      <td>delhi</td>\n      <td>4</td>\n    </tr>\n    <tr>\n      <th>5</th>\n      <td>bengaluru</td>\n      <td>5</td>\n    </tr>\n  </tbody>\n</table>\n</div>",
            "text/plain": "        city  guest_no\n0      delhi         0\n1    chennai         1\n2  bengaluru         2\n3      delhi         3\n4      delhi         4\n5  bengaluru         5"
          },
          "metadata": {}
        }
      ]
    },
    {
      "metadata": {
        "trusted": true
      },
      "cell_type": "code",
      "source": "dd=pd.get_dummies(dd,columns=['city'])",
      "execution_count": 18,
      "outputs": []
    },
    {
      "metadata": {
        "trusted": true
      },
      "cell_type": "code",
      "source": "dd",
      "execution_count": 19,
      "outputs": [
        {
          "output_type": "execute_result",
          "execution_count": 19,
          "data": {
            "text/html": "<div>\n<style scoped>\n    .dataframe tbody tr th:only-of-type {\n        vertical-align: middle;\n    }\n\n    .dataframe tbody tr th {\n        vertical-align: top;\n    }\n\n    .dataframe thead th {\n        text-align: right;\n    }\n</style>\n<table border=\"1\" class=\"dataframe\">\n  <thead>\n    <tr style=\"text-align: right;\">\n      <th></th>\n      <th>guest_no</th>\n      <th>city_bengaluru</th>\n      <th>city_chennai</th>\n      <th>city_delhi</th>\n    </tr>\n  </thead>\n  <tbody>\n    <tr>\n      <th>0</th>\n      <td>0</td>\n      <td>0</td>\n      <td>0</td>\n      <td>1</td>\n    </tr>\n    <tr>\n      <th>1</th>\n      <td>1</td>\n      <td>0</td>\n      <td>1</td>\n      <td>0</td>\n    </tr>\n    <tr>\n      <th>2</th>\n      <td>2</td>\n      <td>1</td>\n      <td>0</td>\n      <td>0</td>\n    </tr>\n    <tr>\n      <th>3</th>\n      <td>3</td>\n      <td>0</td>\n      <td>0</td>\n      <td>1</td>\n    </tr>\n    <tr>\n      <th>4</th>\n      <td>4</td>\n      <td>0</td>\n      <td>0</td>\n      <td>1</td>\n    </tr>\n    <tr>\n      <th>5</th>\n      <td>5</td>\n      <td>1</td>\n      <td>0</td>\n      <td>0</td>\n    </tr>\n  </tbody>\n</table>\n</div>",
            "text/plain": "   guest_no  city_bengaluru  city_chennai  city_delhi\n0         0               0             0           1\n1         1               0             1           0\n2         2               1             0           0\n3         3               0             0           1\n4         4               0             0           1\n5         5               1             0           0"
          },
          "metadata": {}
        }
      ]
    },
    {
      "metadata": {
        "trusted": true
      },
      "cell_type": "code",
      "source": "df = pd.get_dummies(df, columns=['ORIGIN', 'DEST'])\ndf.head()",
      "execution_count": 20,
      "outputs": [
        {
          "output_type": "execute_result",
          "execution_count": 20,
          "data": {
            "text/html": "<div>\n<style scoped>\n    .dataframe tbody tr th:only-of-type {\n        vertical-align: middle;\n    }\n\n    .dataframe tbody tr th {\n        vertical-align: top;\n    }\n\n    .dataframe thead th {\n        text-align: right;\n    }\n</style>\n<table border=\"1\" class=\"dataframe\">\n  <thead>\n    <tr style=\"text-align: right;\">\n      <th></th>\n      <th>MONTH</th>\n      <th>DAY_OF_MONTH</th>\n      <th>DAY_OF_WEEK</th>\n      <th>CRS_DEP_TIME</th>\n      <th>ARR_DEL15</th>\n      <th>ORIGIN_ATL</th>\n      <th>ORIGIN_DTW</th>\n      <th>ORIGIN_JFK</th>\n      <th>ORIGIN_MSP</th>\n      <th>ORIGIN_SEA</th>\n      <th>DEST_ATL</th>\n      <th>DEST_DTW</th>\n      <th>DEST_JFK</th>\n      <th>DEST_MSP</th>\n      <th>DEST_SEA</th>\n    </tr>\n  </thead>\n  <tbody>\n    <tr>\n      <th>0</th>\n      <td>1</td>\n      <td>1</td>\n      <td>5</td>\n      <td>19</td>\n      <td>0.0</td>\n      <td>1</td>\n      <td>0</td>\n      <td>0</td>\n      <td>0</td>\n      <td>0</td>\n      <td>0</td>\n      <td>0</td>\n      <td>0</td>\n      <td>0</td>\n      <td>1</td>\n    </tr>\n    <tr>\n      <th>1</th>\n      <td>1</td>\n      <td>1</td>\n      <td>5</td>\n      <td>13</td>\n      <td>0.0</td>\n      <td>0</td>\n      <td>1</td>\n      <td>0</td>\n      <td>0</td>\n      <td>0</td>\n      <td>0</td>\n      <td>0</td>\n      <td>0</td>\n      <td>1</td>\n      <td>0</td>\n    </tr>\n    <tr>\n      <th>2</th>\n      <td>1</td>\n      <td>1</td>\n      <td>5</td>\n      <td>9</td>\n      <td>0.0</td>\n      <td>1</td>\n      <td>0</td>\n      <td>0</td>\n      <td>0</td>\n      <td>0</td>\n      <td>0</td>\n      <td>0</td>\n      <td>0</td>\n      <td>0</td>\n      <td>1</td>\n    </tr>\n    <tr>\n      <th>3</th>\n      <td>1</td>\n      <td>1</td>\n      <td>5</td>\n      <td>8</td>\n      <td>0.0</td>\n      <td>0</td>\n      <td>0</td>\n      <td>0</td>\n      <td>0</td>\n      <td>1</td>\n      <td>0</td>\n      <td>0</td>\n      <td>0</td>\n      <td>1</td>\n      <td>0</td>\n    </tr>\n    <tr>\n      <th>4</th>\n      <td>1</td>\n      <td>1</td>\n      <td>5</td>\n      <td>23</td>\n      <td>0.0</td>\n      <td>0</td>\n      <td>0</td>\n      <td>0</td>\n      <td>0</td>\n      <td>1</td>\n      <td>0</td>\n      <td>1</td>\n      <td>0</td>\n      <td>0</td>\n      <td>0</td>\n    </tr>\n  </tbody>\n</table>\n</div>",
            "text/plain": "   MONTH  DAY_OF_MONTH  DAY_OF_WEEK  CRS_DEP_TIME  ARR_DEL15  ORIGIN_ATL  \\\n0      1             1            5            19        0.0           1   \n1      1             1            5            13        0.0           0   \n2      1             1            5             9        0.0           1   \n3      1             1            5             8        0.0           0   \n4      1             1            5            23        0.0           0   \n\n   ORIGIN_DTW  ORIGIN_JFK  ORIGIN_MSP  ORIGIN_SEA  DEST_ATL  DEST_DTW  \\\n0           0           0           0           0         0         0   \n1           1           0           0           0         0         0   \n2           0           0           0           0         0         0   \n3           0           0           0           1         0         0   \n4           0           0           0           1         0         1   \n\n   DEST_JFK  DEST_MSP  DEST_SEA  \n0         0         0         1  \n1         0         1         0  \n2         0         0         1  \n3         0         1         0  \n4         0         0         0  "
          },
          "metadata": {}
        }
      ]
    },
    {
      "metadata": {},
      "cell_type": "markdown",
      "source": "# STEP 3: Build Machine Learning Model\n"
    },
    {
      "metadata": {
        "trusted": true
      },
      "cell_type": "code",
      "source": "'''\nhttps://medium.com/@contactsunny/how-to-split-your-dataset-to-train-and-test-datasets-using-scikit-learn-e7cf6eb5e0d\n\nThe first statement imports scikit-learn's train_test_split helper function.\nThe second line uses the function to split the DataFrame into a training set containing 80% of the original data,\nand a test set containing the remaining 20%. The random_state parameter seeds the random-number generator used to do the splitting,\nwhile the first and second parameters are DataFrames containing the feature columns and the label column.\n\ntrain_test_split returns four DataFrames. \n'''\n\nfrom sklearn.model_selection import train_test_split\ntrain_x, test_x, train_y, test_y = train_test_split(df.drop('ARR_DEL15', axis=1), df['ARR_DEL15'], test_size=0.2, random_state=42)",
      "execution_count": 21,
      "outputs": []
    },
    {
      "metadata": {
        "trusted": true
      },
      "cell_type": "code",
      "source": "'''\nRandom forest classifier\nhttps://www.datacamp.com/community/tutorials/random-forests-classifier-python\nScikit-learn includes a variety of classes for implementing common machine learning models. One of them is RandomForestClassifier,\nwhich fits multiple decision trees to the data and uses averaging to boost the overall accuracy and limit overfitting.\n\nThe output shows the parameters used in the classifier, including n_estimators, which specifies the number of trees in\neach decision-tree forest, and max_depth, which specifies the maximum depth of the decision trees. \nThe values shown are the defaults, but you can override any of them when creating the RandomForestClassifier object.\n'''\n\nfrom sklearn.ensemble import RandomForestClassifier\nmodel = RandomForestClassifier(random_state=13)\nmodel.fit(train_x, train_y)",
      "execution_count": 24,
      "outputs": [
        {
          "output_type": "stream",
          "text": "/home/nbuser/anaconda3_501/lib/python3.6/site-packages/sklearn/ensemble/forest.py:246: FutureWarning: The default value of n_estimators will change from 10 in version 0.20 to 100 in 0.22.\n  \"10 in version 0.20 to 100 in 0.22.\", FutureWarning)\n",
          "name": "stderr"
        },
        {
          "output_type": "execute_result",
          "execution_count": 24,
          "data": {
            "text/plain": "RandomForestClassifier(bootstrap=True, class_weight=None, criterion='gini',\n            max_depth=None, max_features='auto', max_leaf_nodes=None,\n            min_impurity_decrease=0.0, min_impurity_split=None,\n            min_samples_leaf=1, min_samples_split=2,\n            min_weight_fraction_leaf=0.0, n_estimators=10, n_jobs=None,\n            oob_score=False, random_state=13, verbose=0, warm_start=False)"
          },
          "metadata": {}
        }
      ]
    },
    {
      "metadata": {
        "trusted": true
      },
      "cell_type": "code",
      "source": "train_x",
      "execution_count": 23,
      "outputs": [
        {
          "output_type": "execute_result",
          "execution_count": 23,
          "data": {
            "text/html": "<div>\n<style scoped>\n    .dataframe tbody tr th:only-of-type {\n        vertical-align: middle;\n    }\n\n    .dataframe tbody tr th {\n        vertical-align: top;\n    }\n\n    .dataframe thead th {\n        text-align: right;\n    }\n</style>\n<table border=\"1\" class=\"dataframe\">\n  <thead>\n    <tr style=\"text-align: right;\">\n      <th></th>\n      <th>MONTH</th>\n      <th>DAY_OF_MONTH</th>\n      <th>DAY_OF_WEEK</th>\n      <th>CRS_DEP_TIME</th>\n      <th>ORIGIN_ATL</th>\n      <th>ORIGIN_DTW</th>\n      <th>ORIGIN_JFK</th>\n      <th>ORIGIN_MSP</th>\n      <th>ORIGIN_SEA</th>\n      <th>DEST_ATL</th>\n      <th>DEST_DTW</th>\n      <th>DEST_JFK</th>\n      <th>DEST_MSP</th>\n      <th>DEST_SEA</th>\n    </tr>\n  </thead>\n  <tbody>\n    <tr>\n      <th>10303</th>\n      <td>11</td>\n      <td>3</td>\n      <td>4</td>\n      <td>20</td>\n      <td>0</td>\n      <td>1</td>\n      <td>0</td>\n      <td>0</td>\n      <td>0</td>\n      <td>0</td>\n      <td>0</td>\n      <td>0</td>\n      <td>1</td>\n      <td>0</td>\n    </tr>\n    <tr>\n      <th>6037</th>\n      <td>7</td>\n      <td>23</td>\n      <td>6</td>\n      <td>11</td>\n      <td>0</td>\n      <td>0</td>\n      <td>0</td>\n      <td>0</td>\n      <td>1</td>\n      <td>0</td>\n      <td>0</td>\n      <td>1</td>\n      <td>0</td>\n      <td>0</td>\n    </tr>\n    <tr>\n      <th>1315</th>\n      <td>2</td>\n      <td>19</td>\n      <td>5</td>\n      <td>7</td>\n      <td>1</td>\n      <td>0</td>\n      <td>0</td>\n      <td>0</td>\n      <td>0</td>\n      <td>0</td>\n      <td>1</td>\n      <td>0</td>\n      <td>0</td>\n      <td>0</td>\n    </tr>\n    <tr>\n      <th>9661</th>\n      <td>11</td>\n      <td>13</td>\n      <td>7</td>\n      <td>17</td>\n      <td>0</td>\n      <td>1</td>\n      <td>0</td>\n      <td>0</td>\n      <td>0</td>\n      <td>1</td>\n      <td>0</td>\n      <td>0</td>\n      <td>0</td>\n      <td>0</td>\n    </tr>\n    <tr>\n      <th>10594</th>\n      <td>12</td>\n      <td>10</td>\n      <td>6</td>\n      <td>5</td>\n      <td>0</td>\n      <td>0</td>\n      <td>0</td>\n      <td>1</td>\n      <td>0</td>\n      <td>1</td>\n      <td>0</td>\n      <td>0</td>\n      <td>0</td>\n      <td>0</td>\n    </tr>\n    <tr>\n      <th>3461</th>\n      <td>5</td>\n      <td>2</td>\n      <td>1</td>\n      <td>13</td>\n      <td>0</td>\n      <td>0</td>\n      <td>0</td>\n      <td>0</td>\n      <td>1</td>\n      <td>0</td>\n      <td>0</td>\n      <td>0</td>\n      <td>1</td>\n      <td>0</td>\n    </tr>\n    <tr>\n      <th>8949</th>\n      <td>10</td>\n      <td>19</td>\n      <td>3</td>\n      <td>16</td>\n      <td>1</td>\n      <td>0</td>\n      <td>0</td>\n      <td>0</td>\n      <td>0</td>\n      <td>0</td>\n      <td>0</td>\n      <td>0</td>\n      <td>0</td>\n      <td>1</td>\n    </tr>\n    <tr>\n      <th>1339</th>\n      <td>2</td>\n      <td>20</td>\n      <td>6</td>\n      <td>6</td>\n      <td>0</td>\n      <td>0</td>\n      <td>0</td>\n      <td>1</td>\n      <td>0</td>\n      <td>0</td>\n      <td>0</td>\n      <td>0</td>\n      <td>0</td>\n      <td>1</td>\n    </tr>\n    <tr>\n      <th>4467</th>\n      <td>6</td>\n      <td>5</td>\n      <td>7</td>\n      <td>12</td>\n      <td>1</td>\n      <td>0</td>\n      <td>0</td>\n      <td>0</td>\n      <td>0</td>\n      <td>0</td>\n      <td>0</td>\n      <td>1</td>\n      <td>0</td>\n      <td>0</td>\n    </tr>\n    <tr>\n      <th>738</th>\n      <td>1</td>\n      <td>30</td>\n      <td>6</td>\n      <td>15</td>\n      <td>1</td>\n      <td>0</td>\n      <td>0</td>\n      <td>0</td>\n      <td>0</td>\n      <td>0</td>\n      <td>0</td>\n      <td>1</td>\n      <td>0</td>\n      <td>0</td>\n    </tr>\n    <tr>\n      <th>965</th>\n      <td>2</td>\n      <td>6</td>\n      <td>6</td>\n      <td>7</td>\n      <td>0</td>\n      <td>0</td>\n      <td>0</td>\n      <td>0</td>\n      <td>1</td>\n      <td>0</td>\n      <td>0</td>\n      <td>1</td>\n      <td>0</td>\n      <td>0</td>\n    </tr>\n    <tr>\n      <th>252</th>\n      <td>1</td>\n      <td>12</td>\n      <td>2</td>\n      <td>20</td>\n      <td>0</td>\n      <td>1</td>\n      <td>0</td>\n      <td>0</td>\n      <td>0</td>\n      <td>0</td>\n      <td>0</td>\n      <td>0</td>\n      <td>0</td>\n      <td>1</td>\n    </tr>\n    <tr>\n      <th>4639</th>\n      <td>6</td>\n      <td>10</td>\n      <td>5</td>\n      <td>16</td>\n      <td>0</td>\n      <td>1</td>\n      <td>0</td>\n      <td>0</td>\n      <td>0</td>\n      <td>1</td>\n      <td>0</td>\n      <td>0</td>\n      <td>0</td>\n      <td>0</td>\n    </tr>\n    <tr>\n      <th>2098</th>\n      <td>3</td>\n      <td>17</td>\n      <td>4</td>\n      <td>16</td>\n      <td>0</td>\n      <td>0</td>\n      <td>1</td>\n      <td>0</td>\n      <td>0</td>\n      <td>0</td>\n      <td>0</td>\n      <td>0</td>\n      <td>0</td>\n      <td>1</td>\n    </tr>\n    <tr>\n      <th>872</th>\n      <td>2</td>\n      <td>3</td>\n      <td>3</td>\n      <td>15</td>\n      <td>0</td>\n      <td>0</td>\n      <td>1</td>\n      <td>0</td>\n      <td>0</td>\n      <td>1</td>\n      <td>0</td>\n      <td>0</td>\n      <td>0</td>\n      <td>0</td>\n    </tr>\n    <tr>\n      <th>2685</th>\n      <td>4</td>\n      <td>9</td>\n      <td>6</td>\n      <td>10</td>\n      <td>0</td>\n      <td>0</td>\n      <td>0</td>\n      <td>1</td>\n      <td>0</td>\n      <td>1</td>\n      <td>0</td>\n      <td>0</td>\n      <td>0</td>\n      <td>0</td>\n    </tr>\n    <tr>\n      <th>8981</th>\n      <td>10</td>\n      <td>21</td>\n      <td>5</td>\n      <td>22</td>\n      <td>0</td>\n      <td>0</td>\n      <td>0</td>\n      <td>0</td>\n      <td>1</td>\n      <td>0</td>\n      <td>0</td>\n      <td>1</td>\n      <td>0</td>\n      <td>0</td>\n    </tr>\n    <tr>\n      <th>3780</th>\n      <td>5</td>\n      <td>12</td>\n      <td>4</td>\n      <td>11</td>\n      <td>0</td>\n      <td>0</td>\n      <td>0</td>\n      <td>1</td>\n      <td>0</td>\n      <td>1</td>\n      <td>0</td>\n      <td>0</td>\n      <td>0</td>\n      <td>0</td>\n    </tr>\n    <tr>\n      <th>10580</th>\n      <td>12</td>\n      <td>11</td>\n      <td>7</td>\n      <td>17</td>\n      <td>0</td>\n      <td>0</td>\n      <td>1</td>\n      <td>0</td>\n      <td>0</td>\n      <td>1</td>\n      <td>0</td>\n      <td>0</td>\n      <td>0</td>\n      <td>0</td>\n    </tr>\n    <tr>\n      <th>7500</th>\n      <td>8</td>\n      <td>31</td>\n      <td>3</td>\n      <td>7</td>\n      <td>0</td>\n      <td>0</td>\n      <td>0</td>\n      <td>1</td>\n      <td>0</td>\n      <td>0</td>\n      <td>0</td>\n      <td>0</td>\n      <td>0</td>\n      <td>1</td>\n    </tr>\n    <tr>\n      <th>5608</th>\n      <td>7</td>\n      <td>9</td>\n      <td>6</td>\n      <td>17</td>\n      <td>0</td>\n      <td>0</td>\n      <td>0</td>\n      <td>1</td>\n      <td>0</td>\n      <td>1</td>\n      <td>0</td>\n      <td>0</td>\n      <td>0</td>\n      <td>0</td>\n    </tr>\n    <tr>\n      <th>6191</th>\n      <td>7</td>\n      <td>27</td>\n      <td>3</td>\n      <td>13</td>\n      <td>0</td>\n      <td>0</td>\n      <td>0</td>\n      <td>1</td>\n      <td>0</td>\n      <td>0</td>\n      <td>1</td>\n      <td>0</td>\n      <td>0</td>\n      <td>0</td>\n    </tr>\n    <tr>\n      <th>10545</th>\n      <td>12</td>\n      <td>9</td>\n      <td>5</td>\n      <td>15</td>\n      <td>0</td>\n      <td>0</td>\n      <td>0</td>\n      <td>1</td>\n      <td>0</td>\n      <td>1</td>\n      <td>0</td>\n      <td>0</td>\n      <td>0</td>\n      <td>0</td>\n    </tr>\n    <tr>\n      <th>10552</th>\n      <td>12</td>\n      <td>8</td>\n      <td>4</td>\n      <td>15</td>\n      <td>0</td>\n      <td>0</td>\n      <td>0</td>\n      <td>1</td>\n      <td>0</td>\n      <td>0</td>\n      <td>0</td>\n      <td>0</td>\n      <td>0</td>\n      <td>1</td>\n    </tr>\n    <tr>\n      <th>7100</th>\n      <td>8</td>\n      <td>20</td>\n      <td>6</td>\n      <td>10</td>\n      <td>1</td>\n      <td>0</td>\n      <td>0</td>\n      <td>0</td>\n      <td>0</td>\n      <td>0</td>\n      <td>1</td>\n      <td>0</td>\n      <td>0</td>\n      <td>0</td>\n    </tr>\n    <tr>\n      <th>6453</th>\n      <td>8</td>\n      <td>2</td>\n      <td>2</td>\n      <td>15</td>\n      <td>0</td>\n      <td>1</td>\n      <td>0</td>\n      <td>0</td>\n      <td>0</td>\n      <td>0</td>\n      <td>0</td>\n      <td>0</td>\n      <td>1</td>\n      <td>0</td>\n    </tr>\n    <tr>\n      <th>5844</th>\n      <td>7</td>\n      <td>15</td>\n      <td>5</td>\n      <td>17</td>\n      <td>0</td>\n      <td>0</td>\n      <td>0</td>\n      <td>1</td>\n      <td>0</td>\n      <td>1</td>\n      <td>0</td>\n      <td>0</td>\n      <td>0</td>\n      <td>0</td>\n    </tr>\n    <tr>\n      <th>9531</th>\n      <td>11</td>\n      <td>7</td>\n      <td>1</td>\n      <td>12</td>\n      <td>0</td>\n      <td>1</td>\n      <td>0</td>\n      <td>0</td>\n      <td>0</td>\n      <td>0</td>\n      <td>0</td>\n      <td>0</td>\n      <td>1</td>\n      <td>0</td>\n    </tr>\n    <tr>\n      <th>6529</th>\n      <td>8</td>\n      <td>5</td>\n      <td>5</td>\n      <td>15</td>\n      <td>1</td>\n      <td>0</td>\n      <td>0</td>\n      <td>0</td>\n      <td>0</td>\n      <td>0</td>\n      <td>1</td>\n      <td>0</td>\n      <td>0</td>\n      <td>0</td>\n    </tr>\n    <tr>\n      <th>3058</th>\n      <td>4</td>\n      <td>16</td>\n      <td>6</td>\n      <td>6</td>\n      <td>0</td>\n      <td>1</td>\n      <td>0</td>\n      <td>0</td>\n      <td>0</td>\n      <td>1</td>\n      <td>0</td>\n      <td>0</td>\n      <td>0</td>\n      <td>0</td>\n    </tr>\n    <tr>\n      <th>...</th>\n      <td>...</td>\n      <td>...</td>\n      <td>...</td>\n      <td>...</td>\n      <td>...</td>\n      <td>...</td>\n      <td>...</td>\n      <td>...</td>\n      <td>...</td>\n      <td>...</td>\n      <td>...</td>\n      <td>...</td>\n      <td>...</td>\n      <td>...</td>\n    </tr>\n    <tr>\n      <th>2747</th>\n      <td>4</td>\n      <td>12</td>\n      <td>2</td>\n      <td>14</td>\n      <td>0</td>\n      <td>0</td>\n      <td>0</td>\n      <td>0</td>\n      <td>1</td>\n      <td>1</td>\n      <td>0</td>\n      <td>0</td>\n      <td>0</td>\n      <td>0</td>\n    </tr>\n    <tr>\n      <th>2047</th>\n      <td>3</td>\n      <td>15</td>\n      <td>2</td>\n      <td>17</td>\n      <td>1</td>\n      <td>0</td>\n      <td>0</td>\n      <td>0</td>\n      <td>0</td>\n      <td>0</td>\n      <td>0</td>\n      <td>1</td>\n      <td>0</td>\n      <td>0</td>\n    </tr>\n    <tr>\n      <th>7849</th>\n      <td>9</td>\n      <td>12</td>\n      <td>1</td>\n      <td>11</td>\n      <td>0</td>\n      <td>0</td>\n      <td>0</td>\n      <td>1</td>\n      <td>0</td>\n      <td>0</td>\n      <td>0</td>\n      <td>0</td>\n      <td>0</td>\n      <td>1</td>\n    </tr>\n    <tr>\n      <th>2558</th>\n      <td>4</td>\n      <td>3</td>\n      <td>7</td>\n      <td>15</td>\n      <td>0</td>\n      <td>1</td>\n      <td>0</td>\n      <td>0</td>\n      <td>0</td>\n      <td>0</td>\n      <td>0</td>\n      <td>0</td>\n      <td>1</td>\n      <td>0</td>\n    </tr>\n    <tr>\n      <th>9274</th>\n      <td>10</td>\n      <td>31</td>\n      <td>1</td>\n      <td>5</td>\n      <td>0</td>\n      <td>0</td>\n      <td>0</td>\n      <td>1</td>\n      <td>0</td>\n      <td>1</td>\n      <td>0</td>\n      <td>0</td>\n      <td>0</td>\n      <td>0</td>\n    </tr>\n    <tr>\n      <th>8666</th>\n      <td>10</td>\n      <td>11</td>\n      <td>2</td>\n      <td>15</td>\n      <td>1</td>\n      <td>0</td>\n      <td>0</td>\n      <td>0</td>\n      <td>0</td>\n      <td>0</td>\n      <td>0</td>\n      <td>0</td>\n      <td>1</td>\n      <td>0</td>\n    </tr>\n    <tr>\n      <th>11096</th>\n      <td>12</td>\n      <td>29</td>\n      <td>4</td>\n      <td>11</td>\n      <td>0</td>\n      <td>0</td>\n      <td>0</td>\n      <td>1</td>\n      <td>0</td>\n      <td>1</td>\n      <td>0</td>\n      <td>0</td>\n      <td>0</td>\n      <td>0</td>\n    </tr>\n    <tr>\n      <th>6396</th>\n      <td>7</td>\n      <td>28</td>\n      <td>4</td>\n      <td>17</td>\n      <td>0</td>\n      <td>0</td>\n      <td>0</td>\n      <td>1</td>\n      <td>0</td>\n      <td>0</td>\n      <td>0</td>\n      <td>1</td>\n      <td>0</td>\n      <td>0</td>\n    </tr>\n    <tr>\n      <th>3385</th>\n      <td>4</td>\n      <td>2</td>\n      <td>6</td>\n      <td>10</td>\n      <td>1</td>\n      <td>0</td>\n      <td>0</td>\n      <td>0</td>\n      <td>0</td>\n      <td>0</td>\n      <td>0</td>\n      <td>0</td>\n      <td>1</td>\n      <td>0</td>\n    </tr>\n    <tr>\n      <th>4555</th>\n      <td>6</td>\n      <td>8</td>\n      <td>3</td>\n      <td>7</td>\n      <td>0</td>\n      <td>0</td>\n      <td>0</td>\n      <td>0</td>\n      <td>1</td>\n      <td>0</td>\n      <td>0</td>\n      <td>1</td>\n      <td>0</td>\n      <td>0</td>\n    </tr>\n    <tr>\n      <th>1184</th>\n      <td>2</td>\n      <td>14</td>\n      <td>7</td>\n      <td>12</td>\n      <td>0</td>\n      <td>1</td>\n      <td>0</td>\n      <td>0</td>\n      <td>0</td>\n      <td>1</td>\n      <td>0</td>\n      <td>0</td>\n      <td>0</td>\n      <td>0</td>\n    </tr>\n    <tr>\n      <th>6420</th>\n      <td>8</td>\n      <td>3</td>\n      <td>3</td>\n      <td>11</td>\n      <td>0</td>\n      <td>1</td>\n      <td>0</td>\n      <td>0</td>\n      <td>0</td>\n      <td>0</td>\n      <td>0</td>\n      <td>0</td>\n      <td>0</td>\n      <td>1</td>\n    </tr>\n    <tr>\n      <th>5051</th>\n      <td>6</td>\n      <td>22</td>\n      <td>3</td>\n      <td>21</td>\n      <td>1</td>\n      <td>0</td>\n      <td>0</td>\n      <td>0</td>\n      <td>0</td>\n      <td>0</td>\n      <td>1</td>\n      <td>0</td>\n      <td>0</td>\n      <td>0</td>\n    </tr>\n    <tr>\n      <th>5311</th>\n      <td>6</td>\n      <td>9</td>\n      <td>4</td>\n      <td>15</td>\n      <td>0</td>\n      <td>0</td>\n      <td>0</td>\n      <td>0</td>\n      <td>1</td>\n      <td>0</td>\n      <td>0</td>\n      <td>0</td>\n      <td>1</td>\n      <td>0</td>\n    </tr>\n    <tr>\n      <th>2433</th>\n      <td>3</td>\n      <td>29</td>\n      <td>2</td>\n      <td>15</td>\n      <td>0</td>\n      <td>0</td>\n      <td>1</td>\n      <td>0</td>\n      <td>0</td>\n      <td>1</td>\n      <td>0</td>\n      <td>0</td>\n      <td>0</td>\n      <td>0</td>\n    </tr>\n    <tr>\n      <th>6949</th>\n      <td>8</td>\n      <td>16</td>\n      <td>2</td>\n      <td>6</td>\n      <td>0</td>\n      <td>0</td>\n      <td>0</td>\n      <td>1</td>\n      <td>0</td>\n      <td>0</td>\n      <td>1</td>\n      <td>0</td>\n      <td>0</td>\n      <td>0</td>\n    </tr>\n    <tr>\n      <th>10583</th>\n      <td>12</td>\n      <td>11</td>\n      <td>7</td>\n      <td>6</td>\n      <td>0</td>\n      <td>0</td>\n      <td>0</td>\n      <td>0</td>\n      <td>1</td>\n      <td>0</td>\n      <td>0</td>\n      <td>0</td>\n      <td>1</td>\n      <td>0</td>\n    </tr>\n    <tr>\n      <th>769</th>\n      <td>1</td>\n      <td>4</td>\n      <td>1</td>\n      <td>8</td>\n      <td>1</td>\n      <td>0</td>\n      <td>0</td>\n      <td>0</td>\n      <td>0</td>\n      <td>0</td>\n      <td>0</td>\n      <td>1</td>\n      <td>0</td>\n      <td>0</td>\n    </tr>\n    <tr>\n      <th>1685</th>\n      <td>3</td>\n      <td>1</td>\n      <td>2</td>\n      <td>19</td>\n      <td>1</td>\n      <td>0</td>\n      <td>0</td>\n      <td>0</td>\n      <td>0</td>\n      <td>0</td>\n      <td>0</td>\n      <td>0</td>\n      <td>0</td>\n      <td>1</td>\n    </tr>\n    <tr>\n      <th>8322</th>\n      <td>9</td>\n      <td>25</td>\n      <td>7</td>\n      <td>11</td>\n      <td>0</td>\n      <td>0</td>\n      <td>0</td>\n      <td>1</td>\n      <td>0</td>\n      <td>1</td>\n      <td>0</td>\n      <td>0</td>\n      <td>0</td>\n      <td>0</td>\n    </tr>\n    <tr>\n      <th>11111</th>\n      <td>12</td>\n      <td>28</td>\n      <td>3</td>\n      <td>15</td>\n      <td>0</td>\n      <td>0</td>\n      <td>0</td>\n      <td>1</td>\n      <td>0</td>\n      <td>0</td>\n      <td>0</td>\n      <td>1</td>\n      <td>0</td>\n      <td>0</td>\n    </tr>\n    <tr>\n      <th>5578</th>\n      <td>7</td>\n      <td>7</td>\n      <td>4</td>\n      <td>11</td>\n      <td>0</td>\n      <td>0</td>\n      <td>0</td>\n      <td>0</td>\n      <td>1</td>\n      <td>0</td>\n      <td>1</td>\n      <td>0</td>\n      <td>0</td>\n      <td>0</td>\n    </tr>\n    <tr>\n      <th>4426</th>\n      <td>6</td>\n      <td>4</td>\n      <td>6</td>\n      <td>5</td>\n      <td>0</td>\n      <td>0</td>\n      <td>0</td>\n      <td>1</td>\n      <td>0</td>\n      <td>1</td>\n      <td>0</td>\n      <td>0</td>\n      <td>0</td>\n      <td>0</td>\n    </tr>\n    <tr>\n      <th>466</th>\n      <td>1</td>\n      <td>21</td>\n      <td>4</td>\n      <td>10</td>\n      <td>1</td>\n      <td>0</td>\n      <td>0</td>\n      <td>0</td>\n      <td>0</td>\n      <td>0</td>\n      <td>0</td>\n      <td>0</td>\n      <td>1</td>\n      <td>0</td>\n    </tr>\n    <tr>\n      <th>6265</th>\n      <td>7</td>\n      <td>30</td>\n      <td>6</td>\n      <td>13</td>\n      <td>0</td>\n      <td>0</td>\n      <td>1</td>\n      <td>0</td>\n      <td>0</td>\n      <td>1</td>\n      <td>0</td>\n      <td>0</td>\n      <td>0</td>\n      <td>0</td>\n    </tr>\n    <tr>\n      <th>5734</th>\n      <td>7</td>\n      <td>14</td>\n      <td>4</td>\n      <td>15</td>\n      <td>0</td>\n      <td>0</td>\n      <td>0</td>\n      <td>1</td>\n      <td>0</td>\n      <td>0</td>\n      <td>1</td>\n      <td>0</td>\n      <td>0</td>\n      <td>0</td>\n    </tr>\n    <tr>\n      <th>5191</th>\n      <td>6</td>\n      <td>27</td>\n      <td>1</td>\n      <td>11</td>\n      <td>0</td>\n      <td>0</td>\n      <td>0</td>\n      <td>1</td>\n      <td>0</td>\n      <td>0</td>\n      <td>1</td>\n      <td>0</td>\n      <td>0</td>\n      <td>0</td>\n    </tr>\n    <tr>\n      <th>5390</th>\n      <td>7</td>\n      <td>2</td>\n      <td>6</td>\n      <td>13</td>\n      <td>0</td>\n      <td>0</td>\n      <td>0</td>\n      <td>0</td>\n      <td>1</td>\n      <td>1</td>\n      <td>0</td>\n      <td>0</td>\n      <td>0</td>\n      <td>0</td>\n    </tr>\n    <tr>\n      <th>860</th>\n      <td>2</td>\n      <td>1</td>\n      <td>1</td>\n      <td>20</td>\n      <td>0</td>\n      <td>1</td>\n      <td>0</td>\n      <td>0</td>\n      <td>0</td>\n      <td>0</td>\n      <td>0</td>\n      <td>0</td>\n      <td>0</td>\n      <td>1</td>\n    </tr>\n    <tr>\n      <th>7270</th>\n      <td>8</td>\n      <td>25</td>\n      <td>4</td>\n      <td>13</td>\n      <td>0</td>\n      <td>0</td>\n      <td>0</td>\n      <td>1</td>\n      <td>0</td>\n      <td>0</td>\n      <td>1</td>\n      <td>0</td>\n      <td>0</td>\n      <td>0</td>\n    </tr>\n  </tbody>\n</table>\n<p>8984 rows × 14 columns</p>\n</div>",
            "text/plain": "       MONTH  DAY_OF_MONTH  DAY_OF_WEEK  CRS_DEP_TIME  ORIGIN_ATL  ORIGIN_DTW  \\\n10303     11             3            4            20           0           1   \n6037       7            23            6            11           0           0   \n1315       2            19            5             7           1           0   \n9661      11            13            7            17           0           1   \n10594     12            10            6             5           0           0   \n3461       5             2            1            13           0           0   \n8949      10            19            3            16           1           0   \n1339       2            20            6             6           0           0   \n4467       6             5            7            12           1           0   \n738        1            30            6            15           1           0   \n965        2             6            6             7           0           0   \n252        1            12            2            20           0           1   \n4639       6            10            5            16           0           1   \n2098       3            17            4            16           0           0   \n872        2             3            3            15           0           0   \n2685       4             9            6            10           0           0   \n8981      10            21            5            22           0           0   \n3780       5            12            4            11           0           0   \n10580     12            11            7            17           0           0   \n7500       8            31            3             7           0           0   \n5608       7             9            6            17           0           0   \n6191       7            27            3            13           0           0   \n10545     12             9            5            15           0           0   \n10552     12             8            4            15           0           0   \n7100       8            20            6            10           1           0   \n6453       8             2            2            15           0           1   \n5844       7            15            5            17           0           0   \n9531      11             7            1            12           0           1   \n6529       8             5            5            15           1           0   \n3058       4            16            6             6           0           1   \n...      ...           ...          ...           ...         ...         ...   \n2747       4            12            2            14           0           0   \n2047       3            15            2            17           1           0   \n7849       9            12            1            11           0           0   \n2558       4             3            7            15           0           1   \n9274      10            31            1             5           0           0   \n8666      10            11            2            15           1           0   \n11096     12            29            4            11           0           0   \n6396       7            28            4            17           0           0   \n3385       4             2            6            10           1           0   \n4555       6             8            3             7           0           0   \n1184       2            14            7            12           0           1   \n6420       8             3            3            11           0           1   \n5051       6            22            3            21           1           0   \n5311       6             9            4            15           0           0   \n2433       3            29            2            15           0           0   \n6949       8            16            2             6           0           0   \n10583     12            11            7             6           0           0   \n769        1             4            1             8           1           0   \n1685       3             1            2            19           1           0   \n8322       9            25            7            11           0           0   \n11111     12            28            3            15           0           0   \n5578       7             7            4            11           0           0   \n4426       6             4            6             5           0           0   \n466        1            21            4            10           1           0   \n6265       7            30            6            13           0           0   \n5734       7            14            4            15           0           0   \n5191       6            27            1            11           0           0   \n5390       7             2            6            13           0           0   \n860        2             1            1            20           0           1   \n7270       8            25            4            13           0           0   \n\n       ORIGIN_JFK  ORIGIN_MSP  ORIGIN_SEA  DEST_ATL  DEST_DTW  DEST_JFK  \\\n10303           0           0           0         0         0         0   \n6037            0           0           1         0         0         1   \n1315            0           0           0         0         1         0   \n9661            0           0           0         1         0         0   \n10594           0           1           0         1         0         0   \n3461            0           0           1         0         0         0   \n8949            0           0           0         0         0         0   \n1339            0           1           0         0         0         0   \n4467            0           0           0         0         0         1   \n738             0           0           0         0         0         1   \n965             0           0           1         0         0         1   \n252             0           0           0         0         0         0   \n4639            0           0           0         1         0         0   \n2098            1           0           0         0         0         0   \n872             1           0           0         1         0         0   \n2685            0           1           0         1         0         0   \n8981            0           0           1         0         0         1   \n3780            0           1           0         1         0         0   \n10580           1           0           0         1         0         0   \n7500            0           1           0         0         0         0   \n5608            0           1           0         1         0         0   \n6191            0           1           0         0         1         0   \n10545           0           1           0         1         0         0   \n10552           0           1           0         0         0         0   \n7100            0           0           0         0         1         0   \n6453            0           0           0         0         0         0   \n5844            0           1           0         1         0         0   \n9531            0           0           0         0         0         0   \n6529            0           0           0         0         1         0   \n3058            0           0           0         1         0         0   \n...           ...         ...         ...       ...       ...       ...   \n2747            0           0           1         1         0         0   \n2047            0           0           0         0         0         1   \n7849            0           1           0         0         0         0   \n2558            0           0           0         0         0         0   \n9274            0           1           0         1         0         0   \n8666            0           0           0         0         0         0   \n11096           0           1           0         1         0         0   \n6396            0           1           0         0         0         1   \n3385            0           0           0         0         0         0   \n4555            0           0           1         0         0         1   \n1184            0           0           0         1         0         0   \n6420            0           0           0         0         0         0   \n5051            0           0           0         0         1         0   \n5311            0           0           1         0         0         0   \n2433            1           0           0         1         0         0   \n6949            0           1           0         0         1         0   \n10583           0           0           1         0         0         0   \n769             0           0           0         0         0         1   \n1685            0           0           0         0         0         0   \n8322            0           1           0         1         0         0   \n11111           0           1           0         0         0         1   \n5578            0           0           1         0         1         0   \n4426            0           1           0         1         0         0   \n466             0           0           0         0         0         0   \n6265            1           0           0         1         0         0   \n5734            0           1           0         0         1         0   \n5191            0           1           0         0         1         0   \n5390            0           0           1         1         0         0   \n860             0           0           0         0         0         0   \n7270            0           1           0         0         1         0   \n\n       DEST_MSP  DEST_SEA  \n10303         1         0  \n6037          0         0  \n1315          0         0  \n9661          0         0  \n10594         0         0  \n3461          1         0  \n8949          0         1  \n1339          0         1  \n4467          0         0  \n738           0         0  \n965           0         0  \n252           0         1  \n4639          0         0  \n2098          0         1  \n872           0         0  \n2685          0         0  \n8981          0         0  \n3780          0         0  \n10580         0         0  \n7500          0         1  \n5608          0         0  \n6191          0         0  \n10545         0         0  \n10552         0         1  \n7100          0         0  \n6453          1         0  \n5844          0         0  \n9531          1         0  \n6529          0         0  \n3058          0         0  \n...         ...       ...  \n2747          0         0  \n2047          0         0  \n7849          0         1  \n2558          1         0  \n9274          0         0  \n8666          1         0  \n11096         0         0  \n6396          0         0  \n3385          1         0  \n4555          0         0  \n1184          0         0  \n6420          0         1  \n5051          0         0  \n5311          1         0  \n2433          0         0  \n6949          0         0  \n10583         1         0  \n769           0         0  \n1685          0         1  \n8322          0         0  \n11111         0         0  \n5578          0         0  \n4426          0         0  \n466           1         0  \n6265          0         0  \n5734          0         0  \n5191          0         0  \n5390          0         0  \n860           0         1  \n7270          0         0  \n\n[8984 rows x 14 columns]"
          },
          "metadata": {}
        }
      ]
    },
    {
      "metadata": {
        "trusted": true
      },
      "cell_type": "code",
      "source": "'''Now call the predict method to test the model using the values in test_x,\nfollowed by the score method to determine the mean accuracy of the model:\nWe will go over each line in detail.'''\npredicted = model.predict(test_x)\nmodel.score(test_x, test_y)",
      "execution_count": 26,
      "outputs": [
        {
          "output_type": "execute_result",
          "execution_count": 26,
          "data": {
            "text/plain": "0.8602581219403649"
          },
          "metadata": {}
        }
      ]
    },
    {
      "metadata": {
        "trusted": true
      },
      "cell_type": "code",
      "source": "predicted",
      "execution_count": 27,
      "outputs": [
        {
          "output_type": "execute_result",
          "execution_count": 27,
          "data": {
            "text/plain": "array([0., 0., 0., ..., 0., 0., 0.])"
          },
          "metadata": {}
        }
      ]
    },
    {
      "metadata": {
        "trusted": true
      },
      "cell_type": "code",
      "source": "'''\nThis piece of code is not to be written or executed.\nIt is to show the what values has our model classified the flight into , 1 for late and 0 for on time.\n'''\n\nimport sys\nimport numpy\nnumpy.set_printoptions(threshold=sys.maxsize)\nmodel.predict(test_x) # this was just to check the ",
      "execution_count": 110,
      "outputs": [
        {
          "output_type": "execute_result",
          "execution_count": 110,
          "data": {
            "text/plain": "array([0., 0., 0., 0., 0., 0., 0., 0., 0., 0., 0., 0., 0., 0., 0., 0., 0.,\n       0., 0., 0., 0., 0., 0., 0., 0., 0., 0., 0., 0., 0., 0., 0., 0., 0.,\n       0., 0., 0., 0., 0., 0., 0., 0., 0., 0., 0., 0., 0., 0., 0., 0., 0.,\n       0., 0., 0., 0., 0., 0., 0., 0., 0., 0., 1., 0., 0., 0., 0., 0., 0.,\n       0., 0., 0., 0., 0., 0., 0., 0., 0., 1., 0., 0., 0., 0., 0., 0., 0.,\n       0., 0., 0., 0., 0., 0., 0., 0., 0., 0., 0., 0., 0., 0., 0., 0., 0.,\n       0., 0., 0., 0., 0., 0., 0., 0., 0., 0., 0., 0., 0., 0., 0., 0., 1.,\n       0., 0., 0., 0., 0., 0., 0., 0., 0., 0., 0., 0., 0., 0., 0., 0., 0.,\n       0., 1., 0., 0., 0., 0., 0., 0., 0., 0., 0., 0., 0., 0., 0., 0., 0.,\n       0., 0., 0., 0., 0., 0., 0., 0., 0., 1., 0., 0., 0., 0., 0., 0., 0.,\n       0., 0., 1., 0., 0., 0., 1., 0., 0., 0., 0., 0., 0., 0., 0., 0., 0.,\n       0., 0., 0., 0., 0., 0., 0., 0., 0., 0., 0., 0., 0., 0., 0., 0., 0.,\n       0., 0., 0., 0., 0., 0., 0., 0., 0., 0., 0., 0., 0., 1., 0., 0., 0.,\n       0., 0., 0., 0., 0., 0., 0., 0., 0., 0., 0., 0., 0., 0., 0., 0., 0.,\n       0., 0., 0., 0., 0., 0., 0., 1., 0., 0., 0., 0., 0., 0., 0., 0., 0.,\n       0., 0., 0., 0., 0., 0., 0., 0., 0., 0., 0., 0., 0., 1., 0., 0., 0.,\n       0., 0., 0., 0., 0., 0., 0., 0., 0., 0., 0., 0., 0., 0., 0., 0., 0.,\n       0., 0., 0., 0., 0., 0., 0., 0., 0., 0., 0., 0., 0., 0., 0., 0., 0.,\n       0., 0., 0., 0., 0., 0., 0., 0., 0., 0., 0., 0., 0., 0., 0., 0., 0.,\n       0., 0., 0., 0., 0., 0., 0., 0., 0., 0., 0., 0., 0., 0., 0., 0., 0.,\n       0., 0., 0., 0., 0., 0., 0., 0., 0., 0., 1., 0., 0., 0., 0., 0., 0.,\n       0., 0., 0., 0., 0., 0., 0., 0., 0., 0., 1., 0., 0., 0., 0., 0., 0.,\n       0., 0., 0., 0., 0., 0., 0., 1., 0., 1., 0., 0., 0., 0., 0., 0., 0.,\n       0., 0., 0., 0., 0., 0., 0., 0., 0., 0., 0., 0., 0., 0., 0., 0., 0.,\n       0., 0., 0., 0., 0., 0., 0., 0., 0., 0., 0., 0., 0., 0., 0., 0., 0.,\n       0., 0., 0., 0., 0., 0., 0., 0., 0., 0., 0., 0., 0., 0., 0., 0., 0.,\n       0., 0., 0., 0., 0., 0., 0., 0., 0., 0., 1., 0., 0., 0., 0., 0., 0.,\n       0., 0., 0., 0., 0., 0., 1., 0., 0., 0., 0., 0., 0., 0., 0., 0., 0.,\n       0., 0., 0., 0., 0., 0., 0., 0., 0., 0., 0., 0., 0., 0., 0., 0., 0.,\n       0., 0., 0., 0., 0., 0., 0., 0., 0., 0., 0., 0., 1., 0., 0., 0., 0.,\n       0., 0., 0., 0., 0., 0., 0., 0., 0., 0., 0., 0., 0., 0., 0., 0., 0.,\n       0., 0., 0., 0., 1., 0., 0., 1., 0., 0., 0., 0., 0., 0., 0., 0., 0.,\n       0., 0., 0., 0., 0., 0., 0., 0., 0., 0., 0., 0., 0., 0., 0., 0., 0.,\n       0., 1., 0., 0., 0., 0., 0., 0., 0., 0., 0., 0., 0., 0., 0., 0., 0.,\n       0., 0., 0., 0., 0., 0., 0., 0., 1., 0., 0., 0., 0., 0., 1., 0., 0.,\n       0., 0., 0., 0., 0., 0., 0., 0., 0., 0., 0., 0., 1., 0., 0., 0., 0.,\n       0., 0., 0., 0., 1., 1., 0., 0., 0., 0., 0., 0., 0., 0., 0., 0., 0.,\n       0., 0., 0., 0., 0., 1., 0., 0., 0., 0., 0., 0., 0., 1., 0., 0., 0.,\n       0., 0., 0., 0., 0., 0., 0., 0., 0., 0., 0., 0., 0., 0., 0., 0., 0.,\n       0., 0., 0., 0., 0., 0., 0., 1., 0., 0., 0., 0., 0., 0., 0., 0., 0.,\n       0., 0., 0., 1., 0., 0., 0., 0., 0., 0., 0., 0., 0., 0., 0., 0., 0.,\n       0., 0., 0., 0., 0., 0., 0., 0., 0., 1., 0., 0., 1., 0., 0., 0., 0.,\n       0., 0., 0., 0., 0., 0., 0., 0., 0., 0., 0., 0., 1., 0., 0., 0., 0.,\n       0., 0., 0., 0., 1., 0., 0., 0., 0., 0., 0., 0., 0., 0., 0., 0., 0.,\n       0., 0., 0., 0., 0., 0., 0., 0., 1., 0., 0., 0., 0., 0., 0., 0., 0.,\n       0., 0., 0., 0., 0., 0., 1., 0., 0., 0., 0., 0., 0., 0., 0., 0., 0.,\n       0., 0., 0., 0., 0., 0., 0., 0., 0., 0., 0., 0., 0., 0., 0., 0., 0.,\n       0., 0., 1., 0., 0., 0., 0., 0., 0., 0., 0., 0., 0., 0., 1., 0., 0.,\n       0., 0., 0., 0., 0., 0., 0., 0., 0., 0., 0., 0., 0., 1., 0., 0., 0.,\n       0., 0., 0., 0., 0., 0., 0., 0., 0., 0., 0., 0., 0., 0., 1., 0., 0.,\n       0., 0., 0., 0., 0., 0., 0., 0., 0., 1., 1., 0., 0., 0., 0., 0., 0.,\n       0., 0., 0., 1., 0., 0., 0., 0., 0., 0., 0., 0., 0., 0., 0., 0., 0.,\n       0., 0., 0., 0., 0., 0., 0., 0., 0., 0., 0., 1., 0., 0., 0., 0., 0.,\n       0., 0., 1., 0., 0., 0., 0., 0., 0., 0., 0., 0., 0., 0., 0., 0., 0.,\n       0., 0., 0., 0., 0., 0., 0., 0., 0., 0., 0., 0., 0., 0., 0., 0., 0.,\n       0., 0., 0., 0., 0., 0., 0., 0., 0., 0., 0., 0., 0., 0., 0., 0., 0.,\n       0., 0., 0., 0., 0., 0., 0., 0., 0., 0., 0., 0., 0., 0., 0., 0., 0.,\n       0., 0., 0., 0., 0., 0., 0., 0., 0., 0., 0., 0., 0., 0., 0., 1., 0.,\n       0., 0., 0., 0., 0., 0., 0., 0., 0., 0., 0., 0., 0., 0., 0., 0., 0.,\n       0., 1., 0., 0., 0., 0., 0., 0., 0., 0., 0., 0., 0., 0., 0., 0., 0.,\n       0., 0., 0., 1., 0., 0., 0., 0., 0., 0., 0., 0., 0., 0., 0., 0., 0.,\n       0., 0., 0., 0., 0., 0., 1., 0., 0., 0., 0., 0., 0., 0., 0., 0., 0.,\n       0., 0., 0., 0., 0., 0., 0., 0., 0., 0., 0., 0., 0., 0., 0., 0., 0.,\n       0., 0., 0., 0., 0., 0., 0., 0., 0., 0., 0., 0., 1., 0., 0., 1., 0.,\n       0., 0., 0., 0., 0., 0., 0., 0., 0., 0., 0., 0., 1., 0., 0., 0., 0.,\n       0., 0., 0., 0., 0., 1., 0., 0., 0., 0., 0., 0., 0., 0., 1., 0., 0.,\n       0., 0., 0., 0., 0., 0., 0., 0., 0., 1., 0., 0., 0., 0., 0., 0., 0.,\n       0., 1., 0., 0., 0., 0., 0., 0., 0., 0., 1., 0., 1., 0., 0., 0., 0.,\n       0., 0., 0., 0., 0., 0., 0., 0., 0., 0., 0., 0., 0., 0., 0., 0., 0.,\n       0., 0., 0., 0., 0., 0., 0., 0., 0., 0., 0., 0., 0., 0., 0., 0., 1.,\n       0., 0., 0., 0., 0., 0., 0., 0., 0., 1., 0., 0., 0., 0., 0., 0., 0.,\n       0., 0., 0., 0., 0., 0., 0., 0., 0., 0., 0., 0., 0., 0., 0., 0., 0.,\n       0., 0., 0., 0., 0., 0., 0., 0., 0., 0., 0., 0., 0., 0., 0., 1., 0.,\n       0., 0., 0., 0., 0., 0., 1., 0., 0., 0., 0., 0., 0., 0., 0., 0., 0.,\n       0., 0., 0., 0., 0., 0., 0., 0., 0., 0., 0., 0., 0., 0., 0., 0., 0.,\n       0., 0., 0., 0., 0., 0., 0., 0., 0., 0., 0., 0., 0., 0., 0., 0., 0.,\n       0., 0., 0., 0., 0., 0., 0., 0., 0., 0., 0., 0., 0., 0., 0., 0., 0.,\n       0., 0., 0., 0., 0., 0., 0., 0., 0., 0., 0., 0., 0., 0., 0., 0., 0.,\n       0., 0., 0., 0., 0., 0., 0., 0., 0., 0., 0., 0., 0., 0., 0., 0., 0.,\n       0., 0., 0., 0., 0., 0., 0., 0., 0., 0., 0., 0., 0., 1., 0., 0., 0.,\n       0., 1., 0., 0., 0., 0., 0., 0., 0., 0., 0., 0., 0., 0., 0., 0., 1.,\n       0., 0., 0., 0., 0., 0., 0., 0., 0., 0., 0., 0., 0., 0., 0., 0., 0.,\n       0., 0., 0., 0., 0., 0., 0., 0., 0., 0., 0., 0., 0., 0., 0., 0., 0.,\n       0., 0., 0., 0., 0., 0., 0., 0., 0., 0., 0., 1., 0., 0., 0., 0., 0.,\n       0., 0., 0., 0., 0., 0., 0., 0., 0., 0., 0., 1., 0., 0., 0., 0., 0.,\n       0., 0., 0., 1., 0., 1., 0., 0., 0., 0., 0., 0., 0., 0., 0., 0., 0.,\n       0., 0., 0., 0., 0., 0., 0., 0., 0., 0., 0., 0., 0., 0., 0., 0., 0.,\n       1., 0., 0., 0., 0., 0., 0., 0., 0., 0., 0., 0., 0., 0., 0., 0., 0.,\n       0., 0., 0., 0., 0., 0., 0., 0., 0., 0., 0., 0., 0., 0., 0., 0., 1.,\n       0., 0., 0., 1., 0., 0., 0., 0., 0., 1., 0., 0., 0., 0., 0., 0., 0.,\n       0., 0., 0., 0., 0., 0., 0., 0., 0., 0., 0., 0., 0., 0., 1., 0., 0.,\n       0., 0., 0., 0., 0., 0., 0., 0., 0., 0., 0., 0., 0., 0., 0., 0., 0.,\n       0., 0., 0., 0., 0., 0., 0., 0., 1., 0., 1., 0., 0., 0., 0., 0., 0.,\n       0., 0., 0., 0., 0., 0., 0., 0., 0., 1., 0., 0., 0., 0., 0., 0., 0.,\n       0., 0., 0., 0., 0., 0., 0., 0., 0., 0., 0., 0., 0., 0., 0., 0., 0.,\n       0., 0., 0., 0., 0., 0., 1., 0., 0., 0., 0., 0., 0., 0., 1., 0., 0.,\n       0., 0., 1., 0., 0., 0., 0., 0., 0., 0., 0., 0., 0., 0., 0., 0., 0.,\n       0., 0., 0., 0., 0., 0., 0., 0., 0., 0., 0., 0., 0., 1., 0., 0., 0.,\n       0., 0., 0., 0., 0., 0., 0., 0., 0., 0., 0., 0., 0., 0., 0., 0., 0.,\n       0., 0., 0., 0., 0., 0., 1., 0., 0., 0., 0., 0., 0., 0., 0., 0., 0.,\n       0., 0., 1., 0., 0., 0., 0., 0., 0., 0., 0., 1., 0., 1., 0., 0., 0.,\n       0., 0., 0., 0., 0., 0., 0., 0., 0., 0., 0., 0., 0., 0., 0., 0., 0.,\n       0., 0., 0., 0., 0., 0., 0., 0., 1., 0., 0., 0., 0., 0., 0., 0., 0.,\n       0., 1., 0., 0., 0., 0., 0., 0., 0., 0., 0., 0., 0., 0., 0., 0., 0.,\n       0., 0., 0., 0., 0., 0., 0., 0., 0., 0., 0., 0., 1., 0., 1., 0., 0.,\n       0., 0., 0., 0., 0., 0., 0., 0., 0., 0., 0., 0., 0., 0., 0., 0., 0.,\n       0., 0., 0., 0., 0., 0., 0., 0., 0., 0., 0., 0., 0., 0., 0., 0., 0.,\n       0., 0., 0., 0., 0., 0., 0., 0., 0., 0., 0., 0., 1., 0., 0., 0., 0.,\n       0., 1., 0., 0., 0., 0., 0., 0., 0., 0., 0., 0., 0., 0., 0., 0., 0.,\n       0., 0., 0., 0., 0., 0., 0., 0., 0., 0., 0., 0., 0., 0., 0., 0., 0.,\n       0., 0., 0., 0., 0., 0., 0., 0., 0., 1., 0., 1., 0., 0., 0., 0., 0.,\n       0., 0., 0., 0., 0., 0., 0., 0., 0., 0., 0., 0., 0., 0., 0., 0., 0.,\n       0., 0., 0., 0., 0., 0., 0., 0., 0., 0., 0., 0., 0., 0., 1., 0., 0.,\n       0., 0., 0., 0., 0., 0., 0., 0., 0., 0., 0., 0., 0., 0., 0., 0., 0.,\n       0., 0., 0., 0., 0., 0., 0., 0., 0., 0., 0., 0., 0., 0., 0., 1., 0.,\n       0., 0., 0., 0., 0., 0., 0., 0., 0., 0., 0., 0., 0., 0., 0., 0., 0.,\n       0., 1., 0., 0., 1., 0., 0., 0., 0., 0., 0., 0., 0., 0., 0., 0., 0.,\n       0., 0., 0., 0., 0., 0., 0., 0., 0., 0., 0., 0., 0., 0., 0., 0., 0.,\n       0., 0., 0., 0., 0., 0., 0., 0., 0., 0., 0., 0., 0., 0., 0., 0., 0.,\n       0., 0., 0., 0., 0., 0., 0., 0., 0., 0., 0., 0., 0., 0., 0., 0., 0.,\n       0., 0., 0., 0., 0., 0., 0., 0., 0., 0., 0., 0., 0., 0., 0., 0., 0.,\n       0., 0., 0., 0., 0., 0., 0., 0., 1., 0., 0., 0., 0., 0., 0., 0., 0.,\n       0., 0., 1., 0., 0., 0., 0., 0., 0., 0., 0., 0., 0., 0., 0., 0., 0.,\n       0., 0., 0., 0., 0., 0., 0., 0., 0., 0., 0., 0., 0., 0., 0., 0., 0.,\n       0., 0., 0., 0., 0., 0., 0., 0., 0., 0., 0., 0., 0., 0., 0., 0., 0.,\n       0., 0., 0., 0., 0., 0., 0., 0., 0., 0., 0., 0., 0., 0., 0., 1., 0.,\n       0., 0., 0., 0., 0., 0., 0., 0., 0., 0., 0., 0., 0., 0., 0., 0., 0.,\n       0., 0., 0., 0., 0., 1., 0., 0., 0., 0., 0., 0., 1., 0., 0., 0., 0.,\n       0., 0., 0., 0., 0., 0., 1., 1., 0., 0., 0., 0., 0., 0., 0., 0., 0.,\n       0., 0., 0., 0., 0., 0., 1., 0., 0., 0., 0., 0., 0., 0., 0., 0., 0.,\n       0., 1., 0., 0., 0., 0., 0., 0., 0., 0., 0., 0., 0., 0., 0., 0., 0.,\n       0., 0., 0., 0., 0., 0., 0., 0., 0., 0., 0., 0., 0., 0., 0., 0., 0.,\n       0., 0., 0.])"
          },
          "metadata": {}
        }
      ]
    },
    {
      "metadata": {
        "trusted": true
      },
      "cell_type": "code",
      "source": "help(RandomForestClassifier.score)",
      "execution_count": 72,
      "outputs": [
        {
          "output_type": "stream",
          "text": "Help on function score in module sklearn.base:\n\nscore(self, X, y, sample_weight=None)\n    Returns the mean accuracy on the given test data and labels.\n    \n    In multi-label classification, this is the subset accuracy\n    which is a harsh metric since you require for each sample that\n    each label set be correctly predicted.\n    \n    Parameters\n    ----------\n    X : array-like, shape = (n_samples, n_features)\n        Test samples.\n    \n    y : array-like, shape = (n_samples) or (n_samples, n_outputs)\n        True labels for X.\n    \n    sample_weight : array-like, shape = [n_samples], optional\n        Sample weights.\n    \n    Returns\n    -------\n    score : float\n        Mean accuracy of self.predict(X) wrt. y.\n\n",
          "name": "stdout"
        }
      ]
    },
    {
      "metadata": {
        "trusted": true
      },
      "cell_type": "code",
      "source": "'''\n prediction probabilities for the test set.\n These probabilities are estimates for each of the classes, or answers, the model can predict. \n For example, [0.88199435, 0.11800565] means that there's an 89% chance that a flight will arrive on time (ARR_DEL15 = 0) \n and a 12% chance that it won't (ARR_DEL15 = 1). The sum of the two probabilities adds up to 100%.\n'''\nfrom sklearn.metrics import roc_auc_score\nprobabilities = model.predict_proba(test_x)",
      "execution_count": 28,
      "outputs": []
    },
    {
      "metadata": {
        "trusted": true
      },
      "cell_type": "code",
      "source": "probabilities #it prints the probability for each flight in the test set",
      "execution_count": 29,
      "outputs": [
        {
          "output_type": "execute_result",
          "execution_count": 29,
          "data": {
            "text/plain": "array([[0.8, 0.2],\n       [0.9, 0.1],\n       [1. , 0. ],\n       ...,\n       [0.9, 0.1],\n       [0.7, 0.3],\n       [1. , 0. ]])"
          },
          "metadata": {}
        }
      ]
    },
    {
      "metadata": {
        "trusted": true
      },
      "cell_type": "code",
      "source": "'''\nSKIP\nImage on precision and recall,confusion matrix\nhttps://medium.com/x8-the-ai-community/understanding-ml-evaluation-metrics-precision-recall-2b3fb915b666'''\n\n\n'''The first row in the output represents flights that were on time. The first column in that row shows how many\nflights were correctly predicted to be on time, while the second column reveals how many flights were predicted as delayed\nbut weren't. From this, the model appears to be adept at predicting that a flight will be on time.\n\nGenerating a confusion matrix\n\nGenerating a confusion matrix\n\nBut look at the second row, which represents flights that were delayed. The first column shows how \nmany delayed flights were incorrectly predicted to be on time. The second column shows how many flights were \ncorrectly predicted to be delayed. Clearly, the model isn't nearly as adept at predicting that a flight will be delayed \nas it is at predicting that a flight will arrive on time. What you want in a confusion matrix is large numbers in the \nupper-left and lower-right corners, and small numbers (preferably zeros) in the upper-right and lower-left corners.'''\n\nfrom sklearn.metrics import confusion_matrix\nconfusion_matrix(test_y, predicted)\n",
      "execution_count": 74,
      "outputs": [
        {
          "output_type": "execute_result",
          "execution_count": 74,
          "data": {
            "text/plain": "array([[1809,  127],\n       [ 240,   71]])"
          },
          "metadata": {}
        }
      ]
    },
    {
      "metadata": {},
      "cell_type": "markdown",
      "source": "# Step 5:Visualizing and output of the model"
    },
    {
      "metadata": {
        "trusted": true
      },
      "cell_type": "code",
      "source": "'''\nThe first statement is one of several magic commands supported by the Python kernel that you selected when you created the notebook. \nIt enables Jupyter to render Matplotlib output in a notebook without making repeated calls to show. And it \nmust appear before any references to Matplotlib itself. The final statement configures Seaborn to enhance the output from Matplotlib.\n'''\n%matplotlib inline\nimport matplotlib.pyplot as plt\nimport seaborn as sns\n\nsns.set()\n",
      "execution_count": 36,
      "outputs": [
        {
          "output_type": "stream",
          "text": "/home/nbuser/anaconda3_501/lib/python3.6/site-packages/matplotlib/font_manager.py:229: UserWarning: Matplotlib is building the font cache using fc-list. This may take a moment.\n  'Matplotlib is building the font cache using fc-list. '\n",
          "name": "stderr"
        }
      ]
    },
    {
      "metadata": {
        "trusted": true
      },
      "cell_type": "code",
      "source": "'''\nhttps://www.programiz.com/python-programming/datetime/strptime\nThe function isoweekday() returns an integer value  corresponding to the day of the week.\n\nThis function takes as input a date and time, an origin airport code, and a destination airport code, \nand returns a value between 0.0 and 1.0 indicating the probability that the flight will arrive at its destination on time.\nIt uses the machine-learning model you built in the previous lab to compute the probability. And to call the model,\nit passes a DataFrame containing the input values to predict_proba. The structure of the DataFrame exactly matches the \nstructure of the DataFrame we used earlier.\n\n'''\n\ndef predict_delay(departure_date_time, origin, destination):\n    from datetime import datetime\n\n    try:\n        departure_date_time_parsed = datetime.strptime(departure_date_time, '%d/%m/%Y %H:%M:%S')\n    except ValueError as e:\n        return 'Error parsing date/time - {}'.format(e)\n\n    month = departure_date_time_parsed.month\n    day = departure_date_time_parsed.day\n    day_of_week = departure_date_time_parsed.isoweekday()\n    hour = departure_date_time_parsed.hour\n\n    origin = origin.upper()\n    destination = destination.upper()\n\n    input = [{'MONTH': month,\n              'DAY': day,\n              'DAY_OF_WEEK': day_of_week,\n              'CRS_DEP_TIME': hour,\n              'ORIGIN_ATL': 1 if origin == 'ATL' else 0,\n              'ORIGIN_DTW': 1 if origin == 'DTW' else 0,\n              'ORIGIN_JFK': 1 if origin == 'JFK' else 0,\n              'ORIGIN_MSP': 1 if origin == 'MSP' else 0,\n              'ORIGIN_SEA': 1 if origin == 'SEA' else 0,\n              'DEST_ATL': 1 if destination == 'ATL' else 0,\n              'DEST_DTW': 1 if destination == 'DTW' else 0,\n              'DEST_JFK': 1 if destination == 'JFK' else 0,\n              'DEST_MSP': 1 if destination == 'MSP' else 0,\n              'DEST_SEA': 1 if destination == 'SEA' else 0 }]\n    \n    if(model.predict(pd.DataFrame(input))==0):\n        print(\"The flight will be on time\")\n    else:\n        print(\"The flight will be delayed\")\n        \n    print(\"The probability of the flight being on time is\")\n    return model.predict_proba(pd.DataFrame(input))[0][0]",
      "execution_count": 30,
      "outputs": []
    },
    {
      "metadata": {
        "trusted": true
      },
      "cell_type": "code",
      "source": "predict_delay('2/10/2018 10:00:00', 'ATL', 'SEA')",
      "execution_count": 31,
      "outputs": [
        {
          "output_type": "stream",
          "text": "The flight will be on time\nThe probability of the flight being on time is\n",
          "name": "stdout"
        },
        {
          "output_type": "execute_result",
          "execution_count": 31,
          "data": {
            "text/plain": "1.0"
          },
          "metadata": {}
        }
      ]
    },
    {
      "metadata": {
        "trusted": true
      },
      "cell_type": "code",
      "source": "predict_delay('1/10/2018 21:45:00', 'JFK', 'ATL')",
      "execution_count": 32,
      "outputs": [
        {
          "output_type": "stream",
          "text": "The flight will be on time\nThe probability of the flight being on time is\n",
          "name": "stdout"
        },
        {
          "output_type": "execute_result",
          "execution_count": 32,
          "data": {
            "text/plain": "0.6"
          },
          "metadata": {}
        }
      ]
    },
    {
      "metadata": {
        "trusted": true
      },
      "cell_type": "code",
      "source": "predict_delay('2/10/2018 21:45:00', 'JFK', 'ATL')",
      "execution_count": 33,
      "outputs": [
        {
          "output_type": "stream",
          "text": "The flight will be on time\nThe probability of the flight being on time is\n",
          "name": "stdout"
        },
        {
          "output_type": "execute_result",
          "execution_count": 33,
          "data": {
            "text/plain": "0.8"
          },
          "metadata": {}
        }
      ]
    },
    {
      "metadata": {
        "trusted": true
      },
      "cell_type": "code",
      "source": "'''\n plot the probability of on-time arrivals for an evening flight from JFK to ATL over a range of days:\n'''\nimport numpy as np\n\nlabels = ('Oct 1', 'Oct 2', 'Oct 3', 'Oct 4', 'Oct 5', 'Oct 6', 'Oct 7')\nvalues = (predict_delay('1/10/2018 21:45:00', 'JFK', 'ATL'),\n          predict_delay('2/10/2018 21:45:00', 'JFK', 'ATL'),\n          predict_delay('3/10/2018 21:45:00', 'JFK', 'ATL'),\n          predict_delay('4/10/2018 21:45:00', 'JFK', 'ATL'),\n          predict_delay('5/10/2018 21:45:00', 'JFK', 'ATL'),\n          predict_delay('6/10/2018 21:45:00', 'JFK', 'ATL'),\n          predict_delay('7/10/2018 21:45:00', 'JFK', 'ATL'))\nalabels = np.arange(len(labels)) #x co-ordinates of the bar plot\n\nplt.bar(alabels, values, align='center', alpha=0.5)\nplt.xticks(alabels, labels)\nplt.ylabel('Probability of On-Time Arrival')\nplt.ylim((0.0, 1.0))",
      "execution_count": 37,
      "outputs": [
        {
          "output_type": "stream",
          "text": "The flight will be on time\nThe probability of the flight being on time is\nThe flight will be on time\nThe probability of the flight being on time is\nThe flight will be on time\nThe probability of the flight being on time is\nThe flight will be on time\nThe probability of the flight being on time is\nThe flight will be on time\nThe probability of the flight being on time is\nThe flight will be on time\nThe probability of the flight being on time is\nThe flight will be on time\nThe probability of the flight being on time is\n",
          "name": "stdout"
        },
        {
          "output_type": "execute_result",
          "execution_count": 37,
          "data": {
            "text/plain": "(0.0, 1.0)"
          },
          "metadata": {}
        },
        {
          "output_type": "display_data",
          "data": {
            "image/png": "[encoded data removed]",
            "text/plain": "<Figure size 432x288 with 1 Axes>"
          },
          "metadata": {
            "needs_background": "light"
          }
        }
      ]
    },
    {
      "metadata": {
        "trusted": true
      },
      "cell_type": "code",
      "source": "labels",
      "execution_count": null,
      "outputs": []
    },
    {
      "metadata": {
        "trusted": true
      },
      "cell_type": "code",
      "source": "len(labels)",
      "execution_count": null,
      "outputs": []
    },
    {
      "metadata": {
        "trusted": true
      },
      "cell_type": "code",
      "source": "np.arange(len(labels))",
      "execution_count": null,
      "outputs": []
    },
    {
      "metadata": {
        "trusted": true
      },
      "cell_type": "code",
      "source": "help(plt.bar)",
      "execution_count": 88,
      "outputs": [
        {
          "output_type": "stream",
          "text": "Help on function bar in module matplotlib.pyplot:\n\nbar(x, height, width=0.8, bottom=None, *, align='center', data=None, **kwargs)\n    Make a bar plot.\n    \n    The bars are positioned at *x* with the given *align*\\ment. Their\n    dimensions are given by *width* and *height*. The vertical baseline\n    is *bottom* (default 0).\n    \n    Each of *x*, *height*, *width*, and *bottom* may either be a scalar\n    applying to all bars, or it may be a sequence of length N providing a\n    separate value for each bar.\n    \n    Parameters\n    ----------\n    x : sequence of scalars\n        The x coordinates of the bars. See also *align* for the\n        alignment of the bars to the coordinates.\n    \n    height : scalar or sequence of scalars\n        The height(s) of the bars.\n    \n    width : scalar or array-like, optional\n        The width(s) of the bars (default: 0.8).\n    \n    bottom : scalar or array-like, optional\n        The y coordinate(s) of the bars bases (default: 0).\n    \n    align : {'center', 'edge'}, optional, default: 'center'\n        Alignment of the bars to the *x* coordinates:\n    \n        - 'center': Center the base on the *x* positions.\n        - 'edge': Align the left edges of the bars with the *x* positions.\n    \n        To align the bars on the right edge pass a negative *width* and\n        ``align='edge'``.\n    \n    Returns\n    -------\n    container : `.BarContainer`\n        Container with all the bars and optionally errorbars.\n    \n    Other Parameters\n    ----------------\n    color : scalar or array-like, optional\n        The colors of the bar faces.\n    \n    edgecolor : scalar or array-like, optional\n        The colors of the bar edges.\n    \n    linewidth : scalar or array-like, optional\n        Width of the bar edge(s). If 0, don't draw edges.\n    \n    tick_label : string or array-like, optional\n        The tick labels of the bars.\n        Default: None (Use default numeric labels.)\n    \n    xerr, yerr : scalar or array-like of shape(N,) or shape(2,N), optional\n        If not *None*, add horizontal / vertical errorbars to the bar tips.\n        The values are +/- sizes relative to the data:\n    \n        - scalar: symmetric +/- values for all bars\n        - shape(N,): symmetric +/- values for each bar\n        - shape(2,N): Separate - and + values for each bar. First row\n            contains the lower errors, the second row contains the\n            upper errors.\n        - *None*: No errorbar. (Default)\n    \n        See :doc:`/gallery/statistics/errorbar_features`\n        for an example on the usage of ``xerr`` and ``yerr``.\n    \n    ecolor : scalar or array-like, optional, default: 'black'\n        The line color of the errorbars.\n    \n    capsize : scalar, optional\n       The length of the error bar caps in points.\n       Default: None, which will take the value from\n       :rc:`errorbar.capsize`.\n    \n    error_kw : dict, optional\n        Dictionary of kwargs to be passed to the `~.Axes.errorbar`\n        method. Values of *ecolor* or *capsize* defined here take\n        precedence over the independent kwargs.\n    \n    log : bool, optional, default: False\n        If *True*, set the y-axis to be log scale.\n    \n    orientation : {'vertical',  'horizontal'}, optional\n        *This is for internal use only.* Please use `barh` for\n        horizontal bar plots. Default: 'vertical'.\n    \n    See also\n    --------\n    barh: Plot a horizontal bar plot.\n    \n    Notes\n    -----\n    The optional arguments *color*, *edgecolor*, *linewidth*,\n    *xerr*, and *yerr* can be either scalars or sequences of\n    length equal to the number of bars.  This enables you to use\n    bar as the basis for stacked bar charts, or candlestick plots.\n    Detail: *xerr* and *yerr* are passed directly to\n    :meth:`errorbar`, so they can also have shape 2xN for\n    independent specification of lower and upper errors.\n    \n    Other optional kwargs:\n    \n      agg_filter: a filter function, which takes a (m, n, 3) float array and a dpi value, and returns a (m, n, 3) array \n      alpha: float or None\n      animated: bool\n      antialiased: unknown\n      capstyle: {'butt', 'round', 'projecting'}\n      clip_box: `.Bbox`\n      clip_on: bool\n      clip_path: [(`~matplotlib.path.Path`, `.Transform`) | `.Patch` | None] \n      color: color\n      contains: callable\n      edgecolor: color or None or 'auto'\n      facecolor: color or None\n      figure: `.Figure`\n      fill: bool\n      gid: str\n      hatch: {'/', '\\\\', '|', '-', '+', 'x', 'o', 'O', '.', '*'}\n      in_layout: bool\n      joinstyle: {'miter', 'round', 'bevel'}\n      label: object\n      linestyle: {'-', '--', '-.', ':', '', (offset, on-off-seq), ...}\n      linewidth: float or None for default \n      path_effects: `.AbstractPathEffect`\n      picker: None or bool or float or callable\n      rasterized: bool or None\n      sketch_params: (scale: float, length: float, randomness: float) \n      snap: bool or None\n      transform: `.Transform`\n      url: str\n      visible: bool\n      zorder: float\n    \n    .. note::\n        In addition to the above described arguments, this function can take a\n        **data** keyword argument. If such a **data** argument is given, the\n        following arguments are replaced by **data[<arg>]**:\n    \n        * All arguments with the following names: 'bottom', 'color', 'ecolor', 'edgecolor', 'height', 'left', 'linewidth', 'tick_label', 'width', 'x', 'xerr', 'y', 'yerr'.\n        * All positional arguments.\n    \n        Objects passed as **data** must support item access (``data[<arg>]``) and\n        membership test (``<arg> in data``).\n\n",
          "name": "stdout"
        }
      ]
    },
    {
      "metadata": {
        "trusted": true
      },
      "cell_type": "code",
      "source": "help(plt.xticks)",
      "execution_count": 144,
      "outputs": [
        {
          "output_type": "stream",
          "text": "Help on function xticks in module matplotlib.pyplot:\n\nxticks(ticks=None, labels=None, **kwargs)\n    Get or set the current tick locations and labels of the x-axis.\n    \n    Call signatures::\n    \n        locs, labels = xticks()           # Get locations and labels\n    \n        xticks(ticks, [labels], **kwargs)  # Set locations and labels\n    \n    Parameters\n    ----------\n    ticks : array_like\n        A list of positions at which ticks should be placed. You can pass an\n        empty list to disable xticks.\n    \n    labels : array_like, optional\n        A list of explicit labels to place at the given *locs*.\n    \n    **kwargs\n        :class:`.Text` properties can be used to control the appearance of\n        the labels.\n    \n    Returns\n    -------\n    locs\n        An array of label locations.\n    labels\n        A list of `.Text` objects.\n    \n    Notes\n    -----\n    Calling this function with no arguments (e.g. ``xticks()``) is the pyplot\n    equivalent of calling `~.Axes.get_xticks` and `~.Axes.get_xticklabels` on\n    the current axes.\n    Calling this function with arguments is the pyplot equivalent of calling\n    `~.Axes.set_xticks` and `~.Axes.set_xticklabels` on the current axes.\n    \n    Examples\n    --------\n    Get the current locations and labels:\n    \n        >>> locs, labels = xticks()\n    \n    Set label locations:\n    \n        >>> xticks(np.arange(0, 1, step=0.2))\n    \n    Set text labels:\n    \n        >>> xticks(np.arange(5), ('Tom', 'Dick', 'Harry', 'Sally', 'Sue'))\n    \n    Set text labels and properties:\n    \n        >>> xticks(np.arange(12), calendar.month_name[1:13], rotation=20)\n    \n    Disable xticks:\n    \n        >>> xticks([])\n\n",
          "name": "stdout"
        }
      ]
    },
    {
      "metadata": {
        "trusted": true
      },
      "cell_type": "code",
      "source": "",
      "execution_count": null,
      "outputs": []
    }
  ],
  "metadata": {
    "kernelspec": {
      "name": "python36",
      "display_name": "Python 3.6",
      "language": "python"
    },
    "language_info": {
      "mimetype": "text/x-python",
      "nbconvert_exporter": "python",
      "name": "python",
      "pygments_lexer": "ipython3",
      "version": "3.6.6",
      "file_extension": ".py",
      "codemirror_mode": {
        "version": 3,
        "name": "ipython"
      }
    }
  },
  "nbformat": 4,
  "nbformat_minor": 2
}